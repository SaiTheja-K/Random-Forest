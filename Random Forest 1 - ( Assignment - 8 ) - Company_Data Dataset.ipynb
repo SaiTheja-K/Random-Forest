{
 "cells": [
  {
   "cell_type": "markdown",
   "id": "afc0817c",
   "metadata": {},
   "source": [
    "### Problem Statement:\n",
    "\n",
    "### A cloth manufacturing company is interested to know about the segment or attributes causes high sale.\n",
    "\n",
    "### Approach - A random forest can be built with target variable Sale (we will first convert it in categorical variable) & all other variable will be independent in the analysis.\n"
   ]
  },
  {
   "cell_type": "markdown",
   "id": "3b2ceaa0",
   "metadata": {},
   "source": [
    "---------------------------------------------------------------------\n",
    "### Import Libraries "
   ]
  },
  {
   "cell_type": "code",
   "execution_count": 1,
   "id": "6c253960",
   "metadata": {},
   "outputs": [],
   "source": [
    "import pandas as pd\n",
    "import numpy as np\n",
    "\n",
    "import matplotlib.pyplot as plt\n",
    "import seaborn as sns\n",
    "\n",
    "import warnings\n",
    "warnings.filterwarnings('ignore')\n",
    "\n",
    "from sklearn.preprocessing import LabelEncoder\n",
    "from sklearn.model_selection import train_test_split, GridSearchCV\n",
    "from sklearn.metrics import accuracy_score,confusion_matrix,precision_score,recall_score,classification_report\n",
    "from sklearn.ensemble import RandomForestClassifier,GradientBoostingClassifier"
   ]
  },
  {
   "cell_type": "markdown",
   "id": "8ba79413",
   "metadata": {},
   "source": [
    "### Import Data"
   ]
  },
  {
   "cell_type": "code",
   "execution_count": 2,
   "id": "aae33c2b",
   "metadata": {},
   "outputs": [
    {
     "data": {
      "text/html": [
       "<div>\n",
       "<style scoped>\n",
       "    .dataframe tbody tr th:only-of-type {\n",
       "        vertical-align: middle;\n",
       "    }\n",
       "\n",
       "    .dataframe tbody tr th {\n",
       "        vertical-align: top;\n",
       "    }\n",
       "\n",
       "    .dataframe thead th {\n",
       "        text-align: right;\n",
       "    }\n",
       "</style>\n",
       "<table border=\"1\" class=\"dataframe\">\n",
       "  <thead>\n",
       "    <tr style=\"text-align: right;\">\n",
       "      <th></th>\n",
       "      <th>Sales</th>\n",
       "      <th>CompPrice</th>\n",
       "      <th>Income</th>\n",
       "      <th>Advertising</th>\n",
       "      <th>Population</th>\n",
       "      <th>Price</th>\n",
       "      <th>ShelveLoc</th>\n",
       "      <th>Age</th>\n",
       "      <th>Education</th>\n",
       "      <th>Urban</th>\n",
       "      <th>US</th>\n",
       "    </tr>\n",
       "  </thead>\n",
       "  <tbody>\n",
       "    <tr>\n",
       "      <th>0</th>\n",
       "      <td>9.50</td>\n",
       "      <td>138</td>\n",
       "      <td>73</td>\n",
       "      <td>11</td>\n",
       "      <td>276</td>\n",
       "      <td>120</td>\n",
       "      <td>Bad</td>\n",
       "      <td>42</td>\n",
       "      <td>17</td>\n",
       "      <td>Yes</td>\n",
       "      <td>Yes</td>\n",
       "    </tr>\n",
       "    <tr>\n",
       "      <th>1</th>\n",
       "      <td>11.22</td>\n",
       "      <td>111</td>\n",
       "      <td>48</td>\n",
       "      <td>16</td>\n",
       "      <td>260</td>\n",
       "      <td>83</td>\n",
       "      <td>Good</td>\n",
       "      <td>65</td>\n",
       "      <td>10</td>\n",
       "      <td>Yes</td>\n",
       "      <td>Yes</td>\n",
       "    </tr>\n",
       "    <tr>\n",
       "      <th>2</th>\n",
       "      <td>10.06</td>\n",
       "      <td>113</td>\n",
       "      <td>35</td>\n",
       "      <td>10</td>\n",
       "      <td>269</td>\n",
       "      <td>80</td>\n",
       "      <td>Medium</td>\n",
       "      <td>59</td>\n",
       "      <td>12</td>\n",
       "      <td>Yes</td>\n",
       "      <td>Yes</td>\n",
       "    </tr>\n",
       "    <tr>\n",
       "      <th>3</th>\n",
       "      <td>7.40</td>\n",
       "      <td>117</td>\n",
       "      <td>100</td>\n",
       "      <td>4</td>\n",
       "      <td>466</td>\n",
       "      <td>97</td>\n",
       "      <td>Medium</td>\n",
       "      <td>55</td>\n",
       "      <td>14</td>\n",
       "      <td>Yes</td>\n",
       "      <td>Yes</td>\n",
       "    </tr>\n",
       "    <tr>\n",
       "      <th>4</th>\n",
       "      <td>4.15</td>\n",
       "      <td>141</td>\n",
       "      <td>64</td>\n",
       "      <td>3</td>\n",
       "      <td>340</td>\n",
       "      <td>128</td>\n",
       "      <td>Bad</td>\n",
       "      <td>38</td>\n",
       "      <td>13</td>\n",
       "      <td>Yes</td>\n",
       "      <td>No</td>\n",
       "    </tr>\n",
       "    <tr>\n",
       "      <th>...</th>\n",
       "      <td>...</td>\n",
       "      <td>...</td>\n",
       "      <td>...</td>\n",
       "      <td>...</td>\n",
       "      <td>...</td>\n",
       "      <td>...</td>\n",
       "      <td>...</td>\n",
       "      <td>...</td>\n",
       "      <td>...</td>\n",
       "      <td>...</td>\n",
       "      <td>...</td>\n",
       "    </tr>\n",
       "    <tr>\n",
       "      <th>395</th>\n",
       "      <td>12.57</td>\n",
       "      <td>138</td>\n",
       "      <td>108</td>\n",
       "      <td>17</td>\n",
       "      <td>203</td>\n",
       "      <td>128</td>\n",
       "      <td>Good</td>\n",
       "      <td>33</td>\n",
       "      <td>14</td>\n",
       "      <td>Yes</td>\n",
       "      <td>Yes</td>\n",
       "    </tr>\n",
       "    <tr>\n",
       "      <th>396</th>\n",
       "      <td>6.14</td>\n",
       "      <td>139</td>\n",
       "      <td>23</td>\n",
       "      <td>3</td>\n",
       "      <td>37</td>\n",
       "      <td>120</td>\n",
       "      <td>Medium</td>\n",
       "      <td>55</td>\n",
       "      <td>11</td>\n",
       "      <td>No</td>\n",
       "      <td>Yes</td>\n",
       "    </tr>\n",
       "    <tr>\n",
       "      <th>397</th>\n",
       "      <td>7.41</td>\n",
       "      <td>162</td>\n",
       "      <td>26</td>\n",
       "      <td>12</td>\n",
       "      <td>368</td>\n",
       "      <td>159</td>\n",
       "      <td>Medium</td>\n",
       "      <td>40</td>\n",
       "      <td>18</td>\n",
       "      <td>Yes</td>\n",
       "      <td>Yes</td>\n",
       "    </tr>\n",
       "    <tr>\n",
       "      <th>398</th>\n",
       "      <td>5.94</td>\n",
       "      <td>100</td>\n",
       "      <td>79</td>\n",
       "      <td>7</td>\n",
       "      <td>284</td>\n",
       "      <td>95</td>\n",
       "      <td>Bad</td>\n",
       "      <td>50</td>\n",
       "      <td>12</td>\n",
       "      <td>Yes</td>\n",
       "      <td>Yes</td>\n",
       "    </tr>\n",
       "    <tr>\n",
       "      <th>399</th>\n",
       "      <td>9.71</td>\n",
       "      <td>134</td>\n",
       "      <td>37</td>\n",
       "      <td>0</td>\n",
       "      <td>27</td>\n",
       "      <td>120</td>\n",
       "      <td>Good</td>\n",
       "      <td>49</td>\n",
       "      <td>16</td>\n",
       "      <td>Yes</td>\n",
       "      <td>Yes</td>\n",
       "    </tr>\n",
       "  </tbody>\n",
       "</table>\n",
       "<p>400 rows × 11 columns</p>\n",
       "</div>"
      ],
      "text/plain": [
       "     Sales  CompPrice  Income  Advertising  Population  Price ShelveLoc  Age  \\\n",
       "0     9.50        138      73           11         276    120       Bad   42   \n",
       "1    11.22        111      48           16         260     83      Good   65   \n",
       "2    10.06        113      35           10         269     80    Medium   59   \n",
       "3     7.40        117     100            4         466     97    Medium   55   \n",
       "4     4.15        141      64            3         340    128       Bad   38   \n",
       "..     ...        ...     ...          ...         ...    ...       ...  ...   \n",
       "395  12.57        138     108           17         203    128      Good   33   \n",
       "396   6.14        139      23            3          37    120    Medium   55   \n",
       "397   7.41        162      26           12         368    159    Medium   40   \n",
       "398   5.94        100      79            7         284     95       Bad   50   \n",
       "399   9.71        134      37            0          27    120      Good   49   \n",
       "\n",
       "     Education Urban   US  \n",
       "0           17   Yes  Yes  \n",
       "1           10   Yes  Yes  \n",
       "2           12   Yes  Yes  \n",
       "3           14   Yes  Yes  \n",
       "4           13   Yes   No  \n",
       "..         ...   ...  ...  \n",
       "395         14   Yes  Yes  \n",
       "396         11    No  Yes  \n",
       "397         18   Yes  Yes  \n",
       "398         12   Yes  Yes  \n",
       "399         16   Yes  Yes  \n",
       "\n",
       "[400 rows x 11 columns]"
      ]
     },
     "execution_count": 2,
     "metadata": {},
     "output_type": "execute_result"
    }
   ],
   "source": [
    "comp_data = pd.read_csv('Company_Data.csv')\n",
    "comp_data"
   ]
  },
  {
   "cell_type": "code",
   "execution_count": 3,
   "id": "a2b9552f",
   "metadata": {},
   "outputs": [
    {
     "data": {
      "text/html": [
       "<div>\n",
       "<style scoped>\n",
       "    .dataframe tbody tr th:only-of-type {\n",
       "        vertical-align: middle;\n",
       "    }\n",
       "\n",
       "    .dataframe tbody tr th {\n",
       "        vertical-align: top;\n",
       "    }\n",
       "\n",
       "    .dataframe thead th {\n",
       "        text-align: right;\n",
       "    }\n",
       "</style>\n",
       "<table border=\"1\" class=\"dataframe\">\n",
       "  <thead>\n",
       "    <tr style=\"text-align: right;\">\n",
       "      <th></th>\n",
       "      <th>Sales</th>\n",
       "      <th>CompPrice</th>\n",
       "      <th>Income</th>\n",
       "      <th>Advertising</th>\n",
       "      <th>Population</th>\n",
       "      <th>Price</th>\n",
       "      <th>ShelveLoc</th>\n",
       "      <th>Age</th>\n",
       "      <th>Education</th>\n",
       "      <th>Urban</th>\n",
       "      <th>US</th>\n",
       "    </tr>\n",
       "  </thead>\n",
       "  <tbody>\n",
       "    <tr>\n",
       "      <th>0</th>\n",
       "      <td>9.50</td>\n",
       "      <td>138</td>\n",
       "      <td>73</td>\n",
       "      <td>11</td>\n",
       "      <td>276</td>\n",
       "      <td>120</td>\n",
       "      <td>Bad</td>\n",
       "      <td>42</td>\n",
       "      <td>17</td>\n",
       "      <td>Yes</td>\n",
       "      <td>Yes</td>\n",
       "    </tr>\n",
       "    <tr>\n",
       "      <th>1</th>\n",
       "      <td>11.22</td>\n",
       "      <td>111</td>\n",
       "      <td>48</td>\n",
       "      <td>16</td>\n",
       "      <td>260</td>\n",
       "      <td>83</td>\n",
       "      <td>Good</td>\n",
       "      <td>65</td>\n",
       "      <td>10</td>\n",
       "      <td>Yes</td>\n",
       "      <td>Yes</td>\n",
       "    </tr>\n",
       "    <tr>\n",
       "      <th>2</th>\n",
       "      <td>10.06</td>\n",
       "      <td>113</td>\n",
       "      <td>35</td>\n",
       "      <td>10</td>\n",
       "      <td>269</td>\n",
       "      <td>80</td>\n",
       "      <td>Medium</td>\n",
       "      <td>59</td>\n",
       "      <td>12</td>\n",
       "      <td>Yes</td>\n",
       "      <td>Yes</td>\n",
       "    </tr>\n",
       "    <tr>\n",
       "      <th>3</th>\n",
       "      <td>7.40</td>\n",
       "      <td>117</td>\n",
       "      <td>100</td>\n",
       "      <td>4</td>\n",
       "      <td>466</td>\n",
       "      <td>97</td>\n",
       "      <td>Medium</td>\n",
       "      <td>55</td>\n",
       "      <td>14</td>\n",
       "      <td>Yes</td>\n",
       "      <td>Yes</td>\n",
       "    </tr>\n",
       "    <tr>\n",
       "      <th>4</th>\n",
       "      <td>4.15</td>\n",
       "      <td>141</td>\n",
       "      <td>64</td>\n",
       "      <td>3</td>\n",
       "      <td>340</td>\n",
       "      <td>128</td>\n",
       "      <td>Bad</td>\n",
       "      <td>38</td>\n",
       "      <td>13</td>\n",
       "      <td>Yes</td>\n",
       "      <td>No</td>\n",
       "    </tr>\n",
       "  </tbody>\n",
       "</table>\n",
       "</div>"
      ],
      "text/plain": [
       "   Sales  CompPrice  Income  Advertising  Population  Price ShelveLoc  Age  \\\n",
       "0   9.50        138      73           11         276    120       Bad   42   \n",
       "1  11.22        111      48           16         260     83      Good   65   \n",
       "2  10.06        113      35           10         269     80    Medium   59   \n",
       "3   7.40        117     100            4         466     97    Medium   55   \n",
       "4   4.15        141      64            3         340    128       Bad   38   \n",
       "\n",
       "   Education Urban   US  \n",
       "0         17   Yes  Yes  \n",
       "1         10   Yes  Yes  \n",
       "2         12   Yes  Yes  \n",
       "3         14   Yes  Yes  \n",
       "4         13   Yes   No  "
      ]
     },
     "execution_count": 3,
     "metadata": {},
     "output_type": "execute_result"
    }
   ],
   "source": [
    "comp_data.head()"
   ]
  },
  {
   "cell_type": "code",
   "execution_count": 4,
   "id": "876f15f1",
   "metadata": {},
   "outputs": [
    {
     "data": {
      "text/html": [
       "<div>\n",
       "<style scoped>\n",
       "    .dataframe tbody tr th:only-of-type {\n",
       "        vertical-align: middle;\n",
       "    }\n",
       "\n",
       "    .dataframe tbody tr th {\n",
       "        vertical-align: top;\n",
       "    }\n",
       "\n",
       "    .dataframe thead th {\n",
       "        text-align: right;\n",
       "    }\n",
       "</style>\n",
       "<table border=\"1\" class=\"dataframe\">\n",
       "  <thead>\n",
       "    <tr style=\"text-align: right;\">\n",
       "      <th></th>\n",
       "      <th>Sales</th>\n",
       "      <th>CompPrice</th>\n",
       "      <th>Income</th>\n",
       "      <th>Advertising</th>\n",
       "      <th>Population</th>\n",
       "      <th>Price</th>\n",
       "      <th>ShelveLoc</th>\n",
       "      <th>Age</th>\n",
       "      <th>Education</th>\n",
       "      <th>Urban</th>\n",
       "      <th>US</th>\n",
       "    </tr>\n",
       "  </thead>\n",
       "  <tbody>\n",
       "    <tr>\n",
       "      <th>395</th>\n",
       "      <td>12.57</td>\n",
       "      <td>138</td>\n",
       "      <td>108</td>\n",
       "      <td>17</td>\n",
       "      <td>203</td>\n",
       "      <td>128</td>\n",
       "      <td>Good</td>\n",
       "      <td>33</td>\n",
       "      <td>14</td>\n",
       "      <td>Yes</td>\n",
       "      <td>Yes</td>\n",
       "    </tr>\n",
       "    <tr>\n",
       "      <th>396</th>\n",
       "      <td>6.14</td>\n",
       "      <td>139</td>\n",
       "      <td>23</td>\n",
       "      <td>3</td>\n",
       "      <td>37</td>\n",
       "      <td>120</td>\n",
       "      <td>Medium</td>\n",
       "      <td>55</td>\n",
       "      <td>11</td>\n",
       "      <td>No</td>\n",
       "      <td>Yes</td>\n",
       "    </tr>\n",
       "    <tr>\n",
       "      <th>397</th>\n",
       "      <td>7.41</td>\n",
       "      <td>162</td>\n",
       "      <td>26</td>\n",
       "      <td>12</td>\n",
       "      <td>368</td>\n",
       "      <td>159</td>\n",
       "      <td>Medium</td>\n",
       "      <td>40</td>\n",
       "      <td>18</td>\n",
       "      <td>Yes</td>\n",
       "      <td>Yes</td>\n",
       "    </tr>\n",
       "    <tr>\n",
       "      <th>398</th>\n",
       "      <td>5.94</td>\n",
       "      <td>100</td>\n",
       "      <td>79</td>\n",
       "      <td>7</td>\n",
       "      <td>284</td>\n",
       "      <td>95</td>\n",
       "      <td>Bad</td>\n",
       "      <td>50</td>\n",
       "      <td>12</td>\n",
       "      <td>Yes</td>\n",
       "      <td>Yes</td>\n",
       "    </tr>\n",
       "    <tr>\n",
       "      <th>399</th>\n",
       "      <td>9.71</td>\n",
       "      <td>134</td>\n",
       "      <td>37</td>\n",
       "      <td>0</td>\n",
       "      <td>27</td>\n",
       "      <td>120</td>\n",
       "      <td>Good</td>\n",
       "      <td>49</td>\n",
       "      <td>16</td>\n",
       "      <td>Yes</td>\n",
       "      <td>Yes</td>\n",
       "    </tr>\n",
       "  </tbody>\n",
       "</table>\n",
       "</div>"
      ],
      "text/plain": [
       "     Sales  CompPrice  Income  Advertising  Population  Price ShelveLoc  Age  \\\n",
       "395  12.57        138     108           17         203    128      Good   33   \n",
       "396   6.14        139      23            3          37    120    Medium   55   \n",
       "397   7.41        162      26           12         368    159    Medium   40   \n",
       "398   5.94        100      79            7         284     95       Bad   50   \n",
       "399   9.71        134      37            0          27    120      Good   49   \n",
       "\n",
       "     Education Urban   US  \n",
       "395         14   Yes  Yes  \n",
       "396         11    No  Yes  \n",
       "397         18   Yes  Yes  \n",
       "398         12   Yes  Yes  \n",
       "399         16   Yes  Yes  "
      ]
     },
     "execution_count": 4,
     "metadata": {},
     "output_type": "execute_result"
    }
   ],
   "source": [
    "comp_data.tail()"
   ]
  },
  {
   "cell_type": "markdown",
   "id": "7ab9fd15",
   "metadata": {},
   "source": [
    "### Data Understanding"
   ]
  },
  {
   "cell_type": "code",
   "execution_count": 5,
   "id": "d73531d6",
   "metadata": {},
   "outputs": [
    {
     "data": {
      "text/plain": [
       "(400, 11)"
      ]
     },
     "execution_count": 5,
     "metadata": {},
     "output_type": "execute_result"
    }
   ],
   "source": [
    "comp_data.shape"
   ]
  },
  {
   "cell_type": "code",
   "execution_count": 6,
   "id": "cae35bd2",
   "metadata": {},
   "outputs": [
    {
     "data": {
      "text/plain": [
       "Sales          0\n",
       "CompPrice      0\n",
       "Income         0\n",
       "Advertising    0\n",
       "Population     0\n",
       "Price          0\n",
       "ShelveLoc      0\n",
       "Age            0\n",
       "Education      0\n",
       "Urban          0\n",
       "US             0\n",
       "dtype: int64"
      ]
     },
     "execution_count": 6,
     "metadata": {},
     "output_type": "execute_result"
    }
   ],
   "source": [
    "comp_data.isna().sum()"
   ]
  },
  {
   "cell_type": "code",
   "execution_count": 7,
   "id": "921c65dd",
   "metadata": {},
   "outputs": [
    {
     "data": {
      "text/html": [
       "<div>\n",
       "<style scoped>\n",
       "    .dataframe tbody tr th:only-of-type {\n",
       "        vertical-align: middle;\n",
       "    }\n",
       "\n",
       "    .dataframe tbody tr th {\n",
       "        vertical-align: top;\n",
       "    }\n",
       "\n",
       "    .dataframe thead th {\n",
       "        text-align: right;\n",
       "    }\n",
       "</style>\n",
       "<table border=\"1\" class=\"dataframe\">\n",
       "  <thead>\n",
       "    <tr style=\"text-align: right;\">\n",
       "      <th></th>\n",
       "      <th>Sales</th>\n",
       "      <th>CompPrice</th>\n",
       "      <th>Income</th>\n",
       "      <th>Advertising</th>\n",
       "      <th>Population</th>\n",
       "      <th>Price</th>\n",
       "      <th>ShelveLoc</th>\n",
       "      <th>Age</th>\n",
       "      <th>Education</th>\n",
       "      <th>Urban</th>\n",
       "      <th>US</th>\n",
       "    </tr>\n",
       "  </thead>\n",
       "  <tbody>\n",
       "    <tr>\n",
       "      <th>count</th>\n",
       "      <td>400.000000</td>\n",
       "      <td>400.000000</td>\n",
       "      <td>400.000000</td>\n",
       "      <td>400.000000</td>\n",
       "      <td>400.000000</td>\n",
       "      <td>400.000000</td>\n",
       "      <td>400</td>\n",
       "      <td>400.000000</td>\n",
       "      <td>400.000000</td>\n",
       "      <td>400</td>\n",
       "      <td>400</td>\n",
       "    </tr>\n",
       "    <tr>\n",
       "      <th>unique</th>\n",
       "      <td>NaN</td>\n",
       "      <td>NaN</td>\n",
       "      <td>NaN</td>\n",
       "      <td>NaN</td>\n",
       "      <td>NaN</td>\n",
       "      <td>NaN</td>\n",
       "      <td>3</td>\n",
       "      <td>NaN</td>\n",
       "      <td>NaN</td>\n",
       "      <td>2</td>\n",
       "      <td>2</td>\n",
       "    </tr>\n",
       "    <tr>\n",
       "      <th>top</th>\n",
       "      <td>NaN</td>\n",
       "      <td>NaN</td>\n",
       "      <td>NaN</td>\n",
       "      <td>NaN</td>\n",
       "      <td>NaN</td>\n",
       "      <td>NaN</td>\n",
       "      <td>Medium</td>\n",
       "      <td>NaN</td>\n",
       "      <td>NaN</td>\n",
       "      <td>Yes</td>\n",
       "      <td>Yes</td>\n",
       "    </tr>\n",
       "    <tr>\n",
       "      <th>freq</th>\n",
       "      <td>NaN</td>\n",
       "      <td>NaN</td>\n",
       "      <td>NaN</td>\n",
       "      <td>NaN</td>\n",
       "      <td>NaN</td>\n",
       "      <td>NaN</td>\n",
       "      <td>219</td>\n",
       "      <td>NaN</td>\n",
       "      <td>NaN</td>\n",
       "      <td>282</td>\n",
       "      <td>258</td>\n",
       "    </tr>\n",
       "    <tr>\n",
       "      <th>mean</th>\n",
       "      <td>7.496325</td>\n",
       "      <td>124.975000</td>\n",
       "      <td>68.657500</td>\n",
       "      <td>6.635000</td>\n",
       "      <td>264.840000</td>\n",
       "      <td>115.795000</td>\n",
       "      <td>NaN</td>\n",
       "      <td>53.322500</td>\n",
       "      <td>13.900000</td>\n",
       "      <td>NaN</td>\n",
       "      <td>NaN</td>\n",
       "    </tr>\n",
       "    <tr>\n",
       "      <th>std</th>\n",
       "      <td>2.824115</td>\n",
       "      <td>15.334512</td>\n",
       "      <td>27.986037</td>\n",
       "      <td>6.650364</td>\n",
       "      <td>147.376436</td>\n",
       "      <td>23.676664</td>\n",
       "      <td>NaN</td>\n",
       "      <td>16.200297</td>\n",
       "      <td>2.620528</td>\n",
       "      <td>NaN</td>\n",
       "      <td>NaN</td>\n",
       "    </tr>\n",
       "    <tr>\n",
       "      <th>min</th>\n",
       "      <td>0.000000</td>\n",
       "      <td>77.000000</td>\n",
       "      <td>21.000000</td>\n",
       "      <td>0.000000</td>\n",
       "      <td>10.000000</td>\n",
       "      <td>24.000000</td>\n",
       "      <td>NaN</td>\n",
       "      <td>25.000000</td>\n",
       "      <td>10.000000</td>\n",
       "      <td>NaN</td>\n",
       "      <td>NaN</td>\n",
       "    </tr>\n",
       "    <tr>\n",
       "      <th>25%</th>\n",
       "      <td>5.390000</td>\n",
       "      <td>115.000000</td>\n",
       "      <td>42.750000</td>\n",
       "      <td>0.000000</td>\n",
       "      <td>139.000000</td>\n",
       "      <td>100.000000</td>\n",
       "      <td>NaN</td>\n",
       "      <td>39.750000</td>\n",
       "      <td>12.000000</td>\n",
       "      <td>NaN</td>\n",
       "      <td>NaN</td>\n",
       "    </tr>\n",
       "    <tr>\n",
       "      <th>50%</th>\n",
       "      <td>7.490000</td>\n",
       "      <td>125.000000</td>\n",
       "      <td>69.000000</td>\n",
       "      <td>5.000000</td>\n",
       "      <td>272.000000</td>\n",
       "      <td>117.000000</td>\n",
       "      <td>NaN</td>\n",
       "      <td>54.500000</td>\n",
       "      <td>14.000000</td>\n",
       "      <td>NaN</td>\n",
       "      <td>NaN</td>\n",
       "    </tr>\n",
       "    <tr>\n",
       "      <th>75%</th>\n",
       "      <td>9.320000</td>\n",
       "      <td>135.000000</td>\n",
       "      <td>91.000000</td>\n",
       "      <td>12.000000</td>\n",
       "      <td>398.500000</td>\n",
       "      <td>131.000000</td>\n",
       "      <td>NaN</td>\n",
       "      <td>66.000000</td>\n",
       "      <td>16.000000</td>\n",
       "      <td>NaN</td>\n",
       "      <td>NaN</td>\n",
       "    </tr>\n",
       "    <tr>\n",
       "      <th>max</th>\n",
       "      <td>16.270000</td>\n",
       "      <td>175.000000</td>\n",
       "      <td>120.000000</td>\n",
       "      <td>29.000000</td>\n",
       "      <td>509.000000</td>\n",
       "      <td>191.000000</td>\n",
       "      <td>NaN</td>\n",
       "      <td>80.000000</td>\n",
       "      <td>18.000000</td>\n",
       "      <td>NaN</td>\n",
       "      <td>NaN</td>\n",
       "    </tr>\n",
       "  </tbody>\n",
       "</table>\n",
       "</div>"
      ],
      "text/plain": [
       "             Sales   CompPrice      Income  Advertising  Population  \\\n",
       "count   400.000000  400.000000  400.000000   400.000000  400.000000   \n",
       "unique         NaN         NaN         NaN          NaN         NaN   \n",
       "top            NaN         NaN         NaN          NaN         NaN   \n",
       "freq           NaN         NaN         NaN          NaN         NaN   \n",
       "mean      7.496325  124.975000   68.657500     6.635000  264.840000   \n",
       "std       2.824115   15.334512   27.986037     6.650364  147.376436   \n",
       "min       0.000000   77.000000   21.000000     0.000000   10.000000   \n",
       "25%       5.390000  115.000000   42.750000     0.000000  139.000000   \n",
       "50%       7.490000  125.000000   69.000000     5.000000  272.000000   \n",
       "75%       9.320000  135.000000   91.000000    12.000000  398.500000   \n",
       "max      16.270000  175.000000  120.000000    29.000000  509.000000   \n",
       "\n",
       "             Price ShelveLoc         Age   Education Urban   US  \n",
       "count   400.000000       400  400.000000  400.000000   400  400  \n",
       "unique         NaN         3         NaN         NaN     2    2  \n",
       "top            NaN    Medium         NaN         NaN   Yes  Yes  \n",
       "freq           NaN       219         NaN         NaN   282  258  \n",
       "mean    115.795000       NaN   53.322500   13.900000   NaN  NaN  \n",
       "std      23.676664       NaN   16.200297    2.620528   NaN  NaN  \n",
       "min      24.000000       NaN   25.000000   10.000000   NaN  NaN  \n",
       "25%     100.000000       NaN   39.750000   12.000000   NaN  NaN  \n",
       "50%     117.000000       NaN   54.500000   14.000000   NaN  NaN  \n",
       "75%     131.000000       NaN   66.000000   16.000000   NaN  NaN  \n",
       "max     191.000000       NaN   80.000000   18.000000   NaN  NaN  "
      ]
     },
     "execution_count": 7,
     "metadata": {},
     "output_type": "execute_result"
    }
   ],
   "source": [
    "comp_data.describe(include='all')"
   ]
  },
  {
   "cell_type": "code",
   "execution_count": 8,
   "id": "bb85274c",
   "metadata": {},
   "outputs": [
    {
     "data": {
      "text/plain": [
       "Sales          336\n",
       "CompPrice       73\n",
       "Income          98\n",
       "Advertising     28\n",
       "Population     275\n",
       "Price          101\n",
       "ShelveLoc        3\n",
       "Age             56\n",
       "Education        9\n",
       "Urban            2\n",
       "US               2\n",
       "dtype: int64"
      ]
     },
     "execution_count": 8,
     "metadata": {},
     "output_type": "execute_result"
    }
   ],
   "source": [
    "comp_data.nunique()"
   ]
  },
  {
   "cell_type": "code",
   "execution_count": 9,
   "id": "b2abfa85",
   "metadata": {},
   "outputs": [
    {
     "data": {
      "text/plain": [
       "Sales          float64\n",
       "CompPrice        int64\n",
       "Income           int64\n",
       "Advertising      int64\n",
       "Population       int64\n",
       "Price            int64\n",
       "ShelveLoc       object\n",
       "Age              int64\n",
       "Education        int64\n",
       "Urban           object\n",
       "US              object\n",
       "dtype: object"
      ]
     },
     "execution_count": 9,
     "metadata": {},
     "output_type": "execute_result"
    }
   ],
   "source": [
    "comp_data.dtypes"
   ]
  },
  {
   "cell_type": "markdown",
   "id": "7805f4f5",
   "metadata": {},
   "source": [
    "### Understanding the Target Variable "
   ]
  },
  {
   "cell_type": "code",
   "execution_count": 10,
   "id": "b3ad1302",
   "metadata": {},
   "outputs": [
    {
     "data": {
      "text/plain": [
       "array([ 9.5 , 11.22, 10.06,  7.4 ,  4.15, 10.81,  6.63, 11.85,  6.54,\n",
       "        4.69,  9.01, 11.96,  3.98, 10.96, 11.17,  8.71,  7.58, 12.29,\n",
       "       13.91,  8.73,  6.41, 12.13,  5.08,  5.87, 10.14, 14.9 ,  8.33,\n",
       "        5.27,  2.99,  7.81, 13.55,  8.25,  6.2 ,  8.77,  2.67, 11.07,\n",
       "        8.89,  4.95,  6.59,  3.24,  2.07,  7.96, 10.43,  4.12,  4.16,\n",
       "        4.56, 12.44,  4.38,  3.91, 10.61,  1.42,  4.42,  7.91,  6.92,\n",
       "        4.9 ,  6.85, 11.91,  0.91,  5.42,  5.21,  8.32,  7.32,  1.82,\n",
       "        8.47,  7.8 ,  8.85, 13.39,  7.99,  9.46,  6.5 ,  5.52, 12.61,\n",
       "        8.55, 10.64,  7.7 ,  4.43,  9.14,  8.01,  7.52, 11.62,  2.23,\n",
       "        8.7 , 11.7 ,  6.56,  7.95,  5.33,  4.81,  4.53,  8.86,  8.39,\n",
       "        5.58,  9.48,  7.45, 12.49,  4.88,  4.11,  5.3 ,  5.07,  4.62,\n",
       "        5.55,  0.16,  3.47,  8.98,  9.  ,  6.62,  6.67,  6.01,  9.31,\n",
       "        8.54,  8.8 ,  7.57,  7.37,  6.87, 11.67,  6.88,  8.19,  8.87,\n",
       "        9.34, 11.27,  6.52,  4.96,  4.47,  8.41,  9.54,  7.62,  3.67,\n",
       "        6.44,  5.17, 10.27, 12.3 ,  6.03,  6.53,  7.44,  0.53,  9.09,\n",
       "        3.9 , 10.51,  7.56, 11.48, 10.49, 10.77,  7.64,  5.93,  6.89,\n",
       "        7.71,  7.49, 10.21, 12.53,  9.32,  4.67,  2.93,  3.63,  5.68,\n",
       "        8.22,  0.37,  6.71,  7.3 ,  9.03,  6.38,  0.  ,  7.54,  5.61,\n",
       "       10.48, 10.66,  7.78,  4.94,  7.43,  4.74,  5.32,  9.95, 10.07,\n",
       "        8.68,  8.07, 12.11,  8.79, 13.28,  7.23,  4.19,  4.1 ,  2.52,\n",
       "        3.62,  6.42,  5.56,  5.94,  2.05,  8.74,  4.97,  3.02,  4.36,\n",
       "        9.39, 12.04,  8.23,  4.83,  2.34,  5.73,  4.34,  9.7 , 10.62,\n",
       "       10.59,  6.43,  3.45,  6.68,  8.69,  5.4 , 11.19,  5.16,  8.09,\n",
       "       13.14,  8.65,  9.43,  5.53,  9.62,  7.36,  3.89, 10.31, 12.01,\n",
       "        4.68,  7.82,  8.78, 10.  ,  6.9 ,  5.04,  5.36,  5.05,  9.16,\n",
       "        3.72,  8.31,  5.64,  9.58,  4.2 ,  8.67,  5.12,  7.67,  5.71,\n",
       "        6.37,  7.77,  6.95,  5.31,  9.1 ,  5.83,  5.01, 11.99,  4.55,\n",
       "       12.98, 10.04,  7.22,  6.93,  3.42,  2.86,  7.74,  6.97,  7.6 ,\n",
       "        7.53,  6.98,  8.75,  9.49,  6.64, 11.82, 11.28, 12.66,  4.21,\n",
       "        8.21,  3.07, 10.98,  9.4 ,  8.57,  7.41,  5.28, 10.01, 11.93,\n",
       "        8.03,  4.78,  5.9 ,  9.24, 11.18,  9.53,  6.15,  6.8 ,  9.33,\n",
       "        7.72,  6.39, 15.63, 10.08,  5.86, 10.36,  2.66,  6.23,  3.15,\n",
       "        4.99, 10.1 ,  5.74,  7.63,  6.18,  8.61,  5.97, 11.54,  7.5 ,\n",
       "        7.38,  5.99,  8.43,  8.97, 12.57,  8.64, 10.44, 13.44,  9.45,\n",
       "        7.02,  3.58, 13.36,  4.17,  3.13,  5.25, 10.26, 10.5 ,  5.98,\n",
       "       14.37, 10.71,  7.68,  9.08,  9.44,  7.9 , 16.27,  6.81,  6.11,\n",
       "        5.81,  9.64,  9.35, 12.85,  8.14,  8.44,  5.47,  6.1 ,  5.57,\n",
       "        5.35,  6.14,  9.71])"
      ]
     },
     "execution_count": 10,
     "metadata": {},
     "output_type": "execute_result"
    }
   ],
   "source": [
    "comp_data['Sales'].unique()"
   ]
  },
  {
   "cell_type": "markdown",
   "id": "d7bd3f39",
   "metadata": {},
   "source": [
    "### Data Manipulation"
   ]
  },
  {
   "cell_type": "code",
   "execution_count": 11,
   "id": "ec9b2bfb",
   "metadata": {},
   "outputs": [],
   "source": [
    "encoder = LabelEncoder()"
   ]
  },
  {
   "cell_type": "code",
   "execution_count": 12,
   "id": "ef9bafb0",
   "metadata": {},
   "outputs": [
    {
     "data": {
      "text/html": [
       "<div>\n",
       "<style scoped>\n",
       "    .dataframe tbody tr th:only-of-type {\n",
       "        vertical-align: middle;\n",
       "    }\n",
       "\n",
       "    .dataframe tbody tr th {\n",
       "        vertical-align: top;\n",
       "    }\n",
       "\n",
       "    .dataframe thead th {\n",
       "        text-align: right;\n",
       "    }\n",
       "</style>\n",
       "<table border=\"1\" class=\"dataframe\">\n",
       "  <thead>\n",
       "    <tr style=\"text-align: right;\">\n",
       "      <th></th>\n",
       "      <th>Sales</th>\n",
       "      <th>CompPrice</th>\n",
       "      <th>Income</th>\n",
       "      <th>Advertising</th>\n",
       "      <th>Population</th>\n",
       "      <th>Price</th>\n",
       "      <th>ShelveLoc</th>\n",
       "      <th>Age</th>\n",
       "      <th>Education</th>\n",
       "      <th>Urban</th>\n",
       "      <th>US</th>\n",
       "    </tr>\n",
       "  </thead>\n",
       "  <tbody>\n",
       "    <tr>\n",
       "      <th>0</th>\n",
       "      <td>9.50</td>\n",
       "      <td>138</td>\n",
       "      <td>73</td>\n",
       "      <td>11</td>\n",
       "      <td>276</td>\n",
       "      <td>120</td>\n",
       "      <td>0</td>\n",
       "      <td>42</td>\n",
       "      <td>17</td>\n",
       "      <td>1</td>\n",
       "      <td>1</td>\n",
       "    </tr>\n",
       "    <tr>\n",
       "      <th>1</th>\n",
       "      <td>11.22</td>\n",
       "      <td>111</td>\n",
       "      <td>48</td>\n",
       "      <td>16</td>\n",
       "      <td>260</td>\n",
       "      <td>83</td>\n",
       "      <td>1</td>\n",
       "      <td>65</td>\n",
       "      <td>10</td>\n",
       "      <td>1</td>\n",
       "      <td>1</td>\n",
       "    </tr>\n",
       "    <tr>\n",
       "      <th>2</th>\n",
       "      <td>10.06</td>\n",
       "      <td>113</td>\n",
       "      <td>35</td>\n",
       "      <td>10</td>\n",
       "      <td>269</td>\n",
       "      <td>80</td>\n",
       "      <td>2</td>\n",
       "      <td>59</td>\n",
       "      <td>12</td>\n",
       "      <td>1</td>\n",
       "      <td>1</td>\n",
       "    </tr>\n",
       "    <tr>\n",
       "      <th>3</th>\n",
       "      <td>7.40</td>\n",
       "      <td>117</td>\n",
       "      <td>100</td>\n",
       "      <td>4</td>\n",
       "      <td>466</td>\n",
       "      <td>97</td>\n",
       "      <td>2</td>\n",
       "      <td>55</td>\n",
       "      <td>14</td>\n",
       "      <td>1</td>\n",
       "      <td>1</td>\n",
       "    </tr>\n",
       "    <tr>\n",
       "      <th>4</th>\n",
       "      <td>4.15</td>\n",
       "      <td>141</td>\n",
       "      <td>64</td>\n",
       "      <td>3</td>\n",
       "      <td>340</td>\n",
       "      <td>128</td>\n",
       "      <td>0</td>\n",
       "      <td>38</td>\n",
       "      <td>13</td>\n",
       "      <td>1</td>\n",
       "      <td>0</td>\n",
       "    </tr>\n",
       "    <tr>\n",
       "      <th>...</th>\n",
       "      <td>...</td>\n",
       "      <td>...</td>\n",
       "      <td>...</td>\n",
       "      <td>...</td>\n",
       "      <td>...</td>\n",
       "      <td>...</td>\n",
       "      <td>...</td>\n",
       "      <td>...</td>\n",
       "      <td>...</td>\n",
       "      <td>...</td>\n",
       "      <td>...</td>\n",
       "    </tr>\n",
       "    <tr>\n",
       "      <th>395</th>\n",
       "      <td>12.57</td>\n",
       "      <td>138</td>\n",
       "      <td>108</td>\n",
       "      <td>17</td>\n",
       "      <td>203</td>\n",
       "      <td>128</td>\n",
       "      <td>1</td>\n",
       "      <td>33</td>\n",
       "      <td>14</td>\n",
       "      <td>1</td>\n",
       "      <td>1</td>\n",
       "    </tr>\n",
       "    <tr>\n",
       "      <th>396</th>\n",
       "      <td>6.14</td>\n",
       "      <td>139</td>\n",
       "      <td>23</td>\n",
       "      <td>3</td>\n",
       "      <td>37</td>\n",
       "      <td>120</td>\n",
       "      <td>2</td>\n",
       "      <td>55</td>\n",
       "      <td>11</td>\n",
       "      <td>0</td>\n",
       "      <td>1</td>\n",
       "    </tr>\n",
       "    <tr>\n",
       "      <th>397</th>\n",
       "      <td>7.41</td>\n",
       "      <td>162</td>\n",
       "      <td>26</td>\n",
       "      <td>12</td>\n",
       "      <td>368</td>\n",
       "      <td>159</td>\n",
       "      <td>2</td>\n",
       "      <td>40</td>\n",
       "      <td>18</td>\n",
       "      <td>1</td>\n",
       "      <td>1</td>\n",
       "    </tr>\n",
       "    <tr>\n",
       "      <th>398</th>\n",
       "      <td>5.94</td>\n",
       "      <td>100</td>\n",
       "      <td>79</td>\n",
       "      <td>7</td>\n",
       "      <td>284</td>\n",
       "      <td>95</td>\n",
       "      <td>0</td>\n",
       "      <td>50</td>\n",
       "      <td>12</td>\n",
       "      <td>1</td>\n",
       "      <td>1</td>\n",
       "    </tr>\n",
       "    <tr>\n",
       "      <th>399</th>\n",
       "      <td>9.71</td>\n",
       "      <td>134</td>\n",
       "      <td>37</td>\n",
       "      <td>0</td>\n",
       "      <td>27</td>\n",
       "      <td>120</td>\n",
       "      <td>1</td>\n",
       "      <td>49</td>\n",
       "      <td>16</td>\n",
       "      <td>1</td>\n",
       "      <td>1</td>\n",
       "    </tr>\n",
       "  </tbody>\n",
       "</table>\n",
       "<p>400 rows × 11 columns</p>\n",
       "</div>"
      ],
      "text/plain": [
       "     Sales  CompPrice  Income  Advertising  Population  Price  ShelveLoc  Age  \\\n",
       "0     9.50        138      73           11         276    120          0   42   \n",
       "1    11.22        111      48           16         260     83          1   65   \n",
       "2    10.06        113      35           10         269     80          2   59   \n",
       "3     7.40        117     100            4         466     97          2   55   \n",
       "4     4.15        141      64            3         340    128          0   38   \n",
       "..     ...        ...     ...          ...         ...    ...        ...  ...   \n",
       "395  12.57        138     108           17         203    128          1   33   \n",
       "396   6.14        139      23            3          37    120          2   55   \n",
       "397   7.41        162      26           12         368    159          2   40   \n",
       "398   5.94        100      79            7         284     95          0   50   \n",
       "399   9.71        134      37            0          27    120          1   49   \n",
       "\n",
       "     Education  Urban  US  \n",
       "0           17      1   1  \n",
       "1           10      1   1  \n",
       "2           12      1   1  \n",
       "3           14      1   1  \n",
       "4           13      1   0  \n",
       "..         ...    ...  ..  \n",
       "395         14      1   1  \n",
       "396         11      0   1  \n",
       "397         18      1   1  \n",
       "398         12      1   1  \n",
       "399         16      1   1  \n",
       "\n",
       "[400 rows x 11 columns]"
      ]
     },
     "execution_count": 12,
     "metadata": {},
     "output_type": "execute_result"
    }
   ],
   "source": [
    "comp_data['ShelveLoc'] = encoder.fit_transform(comp_data['ShelveLoc'])\n",
    "comp_data['Urban'] = encoder.fit_transform(comp_data['Urban'])\n",
    "comp_data['US'] = encoder.fit_transform(comp_data['US'])\n",
    "comp_data"
   ]
  },
  {
   "cell_type": "markdown",
   "id": "51571473",
   "metadata": {},
   "source": [
    "### Correlation of the features"
   ]
  },
  {
   "cell_type": "code",
   "execution_count": 13,
   "id": "2a54f7e4",
   "metadata": {},
   "outputs": [
    {
     "data": {
      "text/html": [
       "<div>\n",
       "<style scoped>\n",
       "    .dataframe tbody tr th:only-of-type {\n",
       "        vertical-align: middle;\n",
       "    }\n",
       "\n",
       "    .dataframe tbody tr th {\n",
       "        vertical-align: top;\n",
       "    }\n",
       "\n",
       "    .dataframe thead th {\n",
       "        text-align: right;\n",
       "    }\n",
       "</style>\n",
       "<table border=\"1\" class=\"dataframe\">\n",
       "  <thead>\n",
       "    <tr style=\"text-align: right;\">\n",
       "      <th></th>\n",
       "      <th>Sales</th>\n",
       "      <th>CompPrice</th>\n",
       "      <th>Income</th>\n",
       "      <th>Advertising</th>\n",
       "      <th>Population</th>\n",
       "      <th>Price</th>\n",
       "      <th>ShelveLoc</th>\n",
       "      <th>Age</th>\n",
       "      <th>Education</th>\n",
       "      <th>Urban</th>\n",
       "      <th>US</th>\n",
       "    </tr>\n",
       "  </thead>\n",
       "  <tbody>\n",
       "    <tr>\n",
       "      <th>Sales</th>\n",
       "      <td>1.000000</td>\n",
       "      <td>0.064079</td>\n",
       "      <td>0.151951</td>\n",
       "      <td>0.269507</td>\n",
       "      <td>0.050471</td>\n",
       "      <td>-0.444951</td>\n",
       "      <td>0.157470</td>\n",
       "      <td>-0.231815</td>\n",
       "      <td>-0.051955</td>\n",
       "      <td>-0.015419</td>\n",
       "      <td>0.177093</td>\n",
       "    </tr>\n",
       "    <tr>\n",
       "      <th>CompPrice</th>\n",
       "      <td>0.064079</td>\n",
       "      <td>1.000000</td>\n",
       "      <td>-0.080653</td>\n",
       "      <td>-0.024199</td>\n",
       "      <td>-0.094707</td>\n",
       "      <td>0.584848</td>\n",
       "      <td>0.023350</td>\n",
       "      <td>-0.100239</td>\n",
       "      <td>0.025197</td>\n",
       "      <td>0.066594</td>\n",
       "      <td>0.016869</td>\n",
       "    </tr>\n",
       "    <tr>\n",
       "      <th>Income</th>\n",
       "      <td>0.151951</td>\n",
       "      <td>-0.080653</td>\n",
       "      <td>1.000000</td>\n",
       "      <td>0.058995</td>\n",
       "      <td>-0.007877</td>\n",
       "      <td>-0.056698</td>\n",
       "      <td>-0.067678</td>\n",
       "      <td>-0.004670</td>\n",
       "      <td>-0.056855</td>\n",
       "      <td>0.037967</td>\n",
       "      <td>0.089601</td>\n",
       "    </tr>\n",
       "    <tr>\n",
       "      <th>Advertising</th>\n",
       "      <td>0.269507</td>\n",
       "      <td>-0.024199</td>\n",
       "      <td>0.058995</td>\n",
       "      <td>1.000000</td>\n",
       "      <td>0.265652</td>\n",
       "      <td>0.044537</td>\n",
       "      <td>0.008544</td>\n",
       "      <td>-0.004557</td>\n",
       "      <td>-0.033594</td>\n",
       "      <td>0.042035</td>\n",
       "      <td>0.684460</td>\n",
       "    </tr>\n",
       "    <tr>\n",
       "      <th>Population</th>\n",
       "      <td>0.050471</td>\n",
       "      <td>-0.094707</td>\n",
       "      <td>-0.007877</td>\n",
       "      <td>0.265652</td>\n",
       "      <td>1.000000</td>\n",
       "      <td>-0.012144</td>\n",
       "      <td>-0.044772</td>\n",
       "      <td>-0.042663</td>\n",
       "      <td>-0.106378</td>\n",
       "      <td>-0.052025</td>\n",
       "      <td>0.060564</td>\n",
       "    </tr>\n",
       "    <tr>\n",
       "      <th>Price</th>\n",
       "      <td>-0.444951</td>\n",
       "      <td>0.584848</td>\n",
       "      <td>-0.056698</td>\n",
       "      <td>0.044537</td>\n",
       "      <td>-0.012144</td>\n",
       "      <td>1.000000</td>\n",
       "      <td>0.014633</td>\n",
       "      <td>-0.102177</td>\n",
       "      <td>0.011747</td>\n",
       "      <td>0.047016</td>\n",
       "      <td>0.057861</td>\n",
       "    </tr>\n",
       "    <tr>\n",
       "      <th>ShelveLoc</th>\n",
       "      <td>0.157470</td>\n",
       "      <td>0.023350</td>\n",
       "      <td>-0.067678</td>\n",
       "      <td>0.008544</td>\n",
       "      <td>-0.044772</td>\n",
       "      <td>0.014633</td>\n",
       "      <td>1.000000</td>\n",
       "      <td>0.056488</td>\n",
       "      <td>0.001492</td>\n",
       "      <td>-0.063978</td>\n",
       "      <td>-0.039760</td>\n",
       "    </tr>\n",
       "    <tr>\n",
       "      <th>Age</th>\n",
       "      <td>-0.231815</td>\n",
       "      <td>-0.100239</td>\n",
       "      <td>-0.004670</td>\n",
       "      <td>-0.004557</td>\n",
       "      <td>-0.042663</td>\n",
       "      <td>-0.102177</td>\n",
       "      <td>0.056488</td>\n",
       "      <td>1.000000</td>\n",
       "      <td>0.006488</td>\n",
       "      <td>0.028479</td>\n",
       "      <td>0.008652</td>\n",
       "    </tr>\n",
       "    <tr>\n",
       "      <th>Education</th>\n",
       "      <td>-0.051955</td>\n",
       "      <td>0.025197</td>\n",
       "      <td>-0.056855</td>\n",
       "      <td>-0.033594</td>\n",
       "      <td>-0.106378</td>\n",
       "      <td>0.011747</td>\n",
       "      <td>0.001492</td>\n",
       "      <td>0.006488</td>\n",
       "      <td>1.000000</td>\n",
       "      <td>-0.033094</td>\n",
       "      <td>-0.078250</td>\n",
       "    </tr>\n",
       "    <tr>\n",
       "      <th>Urban</th>\n",
       "      <td>-0.015419</td>\n",
       "      <td>0.066594</td>\n",
       "      <td>0.037967</td>\n",
       "      <td>0.042035</td>\n",
       "      <td>-0.052025</td>\n",
       "      <td>0.047016</td>\n",
       "      <td>-0.063978</td>\n",
       "      <td>0.028479</td>\n",
       "      <td>-0.033094</td>\n",
       "      <td>1.000000</td>\n",
       "      <td>0.047085</td>\n",
       "    </tr>\n",
       "    <tr>\n",
       "      <th>US</th>\n",
       "      <td>0.177093</td>\n",
       "      <td>0.016869</td>\n",
       "      <td>0.089601</td>\n",
       "      <td>0.684460</td>\n",
       "      <td>0.060564</td>\n",
       "      <td>0.057861</td>\n",
       "      <td>-0.039760</td>\n",
       "      <td>0.008652</td>\n",
       "      <td>-0.078250</td>\n",
       "      <td>0.047085</td>\n",
       "      <td>1.000000</td>\n",
       "    </tr>\n",
       "  </tbody>\n",
       "</table>\n",
       "</div>"
      ],
      "text/plain": [
       "                Sales  CompPrice    Income  Advertising  Population     Price  \\\n",
       "Sales        1.000000   0.064079  0.151951     0.269507    0.050471 -0.444951   \n",
       "CompPrice    0.064079   1.000000 -0.080653    -0.024199   -0.094707  0.584848   \n",
       "Income       0.151951  -0.080653  1.000000     0.058995   -0.007877 -0.056698   \n",
       "Advertising  0.269507  -0.024199  0.058995     1.000000    0.265652  0.044537   \n",
       "Population   0.050471  -0.094707 -0.007877     0.265652    1.000000 -0.012144   \n",
       "Price       -0.444951   0.584848 -0.056698     0.044537   -0.012144  1.000000   \n",
       "ShelveLoc    0.157470   0.023350 -0.067678     0.008544   -0.044772  0.014633   \n",
       "Age         -0.231815  -0.100239 -0.004670    -0.004557   -0.042663 -0.102177   \n",
       "Education   -0.051955   0.025197 -0.056855    -0.033594   -0.106378  0.011747   \n",
       "Urban       -0.015419   0.066594  0.037967     0.042035   -0.052025  0.047016   \n",
       "US           0.177093   0.016869  0.089601     0.684460    0.060564  0.057861   \n",
       "\n",
       "             ShelveLoc       Age  Education     Urban        US  \n",
       "Sales         0.157470 -0.231815  -0.051955 -0.015419  0.177093  \n",
       "CompPrice     0.023350 -0.100239   0.025197  0.066594  0.016869  \n",
       "Income       -0.067678 -0.004670  -0.056855  0.037967  0.089601  \n",
       "Advertising   0.008544 -0.004557  -0.033594  0.042035  0.684460  \n",
       "Population   -0.044772 -0.042663  -0.106378 -0.052025  0.060564  \n",
       "Price         0.014633 -0.102177   0.011747  0.047016  0.057861  \n",
       "ShelveLoc     1.000000  0.056488   0.001492 -0.063978 -0.039760  \n",
       "Age           0.056488  1.000000   0.006488  0.028479  0.008652  \n",
       "Education     0.001492  0.006488   1.000000 -0.033094 -0.078250  \n",
       "Urban        -0.063978  0.028479  -0.033094  1.000000  0.047085  \n",
       "US           -0.039760  0.008652  -0.078250  0.047085  1.000000  "
      ]
     },
     "execution_count": 13,
     "metadata": {},
     "output_type": "execute_result"
    }
   ],
   "source": [
    "corr = comp_data.corr()\n",
    "corr"
   ]
  },
  {
   "cell_type": "code",
   "execution_count": 14,
   "id": "0345bb6c",
   "metadata": {},
   "outputs": [
    {
     "data": {
      "image/png": "[encoded data removed]",
      "text/plain": [
       "<Figure size 720x576 with 2 Axes>"
      ]
     },
     "metadata": {
      "needs_background": "light"
     },
     "output_type": "display_data"
    }
   ],
   "source": [
    "plt.figure(figsize=(10,8))\n",
    "sns.heatmap(data = corr, annot = True)\n",
    "plt.show()"
   ]
  },
  {
   "cell_type": "markdown",
   "id": "121d513e",
   "metadata": {},
   "source": [
    "----\n",
    "### Since the target variable is continious, we create a class of the value based on the mean <= 7.49 == \"Small\" and > 7.49 == \"large\""
   ]
  },
  {
   "cell_type": "code",
   "execution_count": 15,
   "id": "eef8f025",
   "metadata": {},
   "outputs": [
    {
     "data": {
      "text/html": [
       "<div>\n",
       "<style scoped>\n",
       "    .dataframe tbody tr th:only-of-type {\n",
       "        vertical-align: middle;\n",
       "    }\n",
       "\n",
       "    .dataframe tbody tr th {\n",
       "        vertical-align: top;\n",
       "    }\n",
       "\n",
       "    .dataframe thead th {\n",
       "        text-align: right;\n",
       "    }\n",
       "</style>\n",
       "<table border=\"1\" class=\"dataframe\">\n",
       "  <thead>\n",
       "    <tr style=\"text-align: right;\">\n",
       "      <th></th>\n",
       "      <th>Sales</th>\n",
       "      <th>CompPrice</th>\n",
       "      <th>Income</th>\n",
       "      <th>Advertising</th>\n",
       "      <th>Population</th>\n",
       "      <th>Price</th>\n",
       "      <th>ShelveLoc</th>\n",
       "      <th>Age</th>\n",
       "      <th>Education</th>\n",
       "      <th>Urban</th>\n",
       "      <th>US</th>\n",
       "      <th>sales_val</th>\n",
       "    </tr>\n",
       "  </thead>\n",
       "  <tbody>\n",
       "    <tr>\n",
       "      <th>0</th>\n",
       "      <td>9.50</td>\n",
       "      <td>138</td>\n",
       "      <td>73</td>\n",
       "      <td>11</td>\n",
       "      <td>276</td>\n",
       "      <td>120</td>\n",
       "      <td>0</td>\n",
       "      <td>42</td>\n",
       "      <td>17</td>\n",
       "      <td>1</td>\n",
       "      <td>1</td>\n",
       "      <td>high</td>\n",
       "    </tr>\n",
       "    <tr>\n",
       "      <th>1</th>\n",
       "      <td>11.22</td>\n",
       "      <td>111</td>\n",
       "      <td>48</td>\n",
       "      <td>16</td>\n",
       "      <td>260</td>\n",
       "      <td>83</td>\n",
       "      <td>1</td>\n",
       "      <td>65</td>\n",
       "      <td>10</td>\n",
       "      <td>1</td>\n",
       "      <td>1</td>\n",
       "      <td>high</td>\n",
       "    </tr>\n",
       "    <tr>\n",
       "      <th>2</th>\n",
       "      <td>10.06</td>\n",
       "      <td>113</td>\n",
       "      <td>35</td>\n",
       "      <td>10</td>\n",
       "      <td>269</td>\n",
       "      <td>80</td>\n",
       "      <td>2</td>\n",
       "      <td>59</td>\n",
       "      <td>12</td>\n",
       "      <td>1</td>\n",
       "      <td>1</td>\n",
       "      <td>high</td>\n",
       "    </tr>\n",
       "    <tr>\n",
       "      <th>3</th>\n",
       "      <td>7.40</td>\n",
       "      <td>117</td>\n",
       "      <td>100</td>\n",
       "      <td>4</td>\n",
       "      <td>466</td>\n",
       "      <td>97</td>\n",
       "      <td>2</td>\n",
       "      <td>55</td>\n",
       "      <td>14</td>\n",
       "      <td>1</td>\n",
       "      <td>1</td>\n",
       "      <td>low</td>\n",
       "    </tr>\n",
       "    <tr>\n",
       "      <th>4</th>\n",
       "      <td>4.15</td>\n",
       "      <td>141</td>\n",
       "      <td>64</td>\n",
       "      <td>3</td>\n",
       "      <td>340</td>\n",
       "      <td>128</td>\n",
       "      <td>0</td>\n",
       "      <td>38</td>\n",
       "      <td>13</td>\n",
       "      <td>1</td>\n",
       "      <td>0</td>\n",
       "      <td>low</td>\n",
       "    </tr>\n",
       "    <tr>\n",
       "      <th>...</th>\n",
       "      <td>...</td>\n",
       "      <td>...</td>\n",
       "      <td>...</td>\n",
       "      <td>...</td>\n",
       "      <td>...</td>\n",
       "      <td>...</td>\n",
       "      <td>...</td>\n",
       "      <td>...</td>\n",
       "      <td>...</td>\n",
       "      <td>...</td>\n",
       "      <td>...</td>\n",
       "      <td>...</td>\n",
       "    </tr>\n",
       "    <tr>\n",
       "      <th>395</th>\n",
       "      <td>12.57</td>\n",
       "      <td>138</td>\n",
       "      <td>108</td>\n",
       "      <td>17</td>\n",
       "      <td>203</td>\n",
       "      <td>128</td>\n",
       "      <td>1</td>\n",
       "      <td>33</td>\n",
       "      <td>14</td>\n",
       "      <td>1</td>\n",
       "      <td>1</td>\n",
       "      <td>high</td>\n",
       "    </tr>\n",
       "    <tr>\n",
       "      <th>396</th>\n",
       "      <td>6.14</td>\n",
       "      <td>139</td>\n",
       "      <td>23</td>\n",
       "      <td>3</td>\n",
       "      <td>37</td>\n",
       "      <td>120</td>\n",
       "      <td>2</td>\n",
       "      <td>55</td>\n",
       "      <td>11</td>\n",
       "      <td>0</td>\n",
       "      <td>1</td>\n",
       "      <td>low</td>\n",
       "    </tr>\n",
       "    <tr>\n",
       "      <th>397</th>\n",
       "      <td>7.41</td>\n",
       "      <td>162</td>\n",
       "      <td>26</td>\n",
       "      <td>12</td>\n",
       "      <td>368</td>\n",
       "      <td>159</td>\n",
       "      <td>2</td>\n",
       "      <td>40</td>\n",
       "      <td>18</td>\n",
       "      <td>1</td>\n",
       "      <td>1</td>\n",
       "      <td>low</td>\n",
       "    </tr>\n",
       "    <tr>\n",
       "      <th>398</th>\n",
       "      <td>5.94</td>\n",
       "      <td>100</td>\n",
       "      <td>79</td>\n",
       "      <td>7</td>\n",
       "      <td>284</td>\n",
       "      <td>95</td>\n",
       "      <td>0</td>\n",
       "      <td>50</td>\n",
       "      <td>12</td>\n",
       "      <td>1</td>\n",
       "      <td>1</td>\n",
       "      <td>low</td>\n",
       "    </tr>\n",
       "    <tr>\n",
       "      <th>399</th>\n",
       "      <td>9.71</td>\n",
       "      <td>134</td>\n",
       "      <td>37</td>\n",
       "      <td>0</td>\n",
       "      <td>27</td>\n",
       "      <td>120</td>\n",
       "      <td>1</td>\n",
       "      <td>49</td>\n",
       "      <td>16</td>\n",
       "      <td>1</td>\n",
       "      <td>1</td>\n",
       "      <td>high</td>\n",
       "    </tr>\n",
       "  </tbody>\n",
       "</table>\n",
       "<p>400 rows × 12 columns</p>\n",
       "</div>"
      ],
      "text/plain": [
       "     Sales  CompPrice  Income  Advertising  Population  Price  ShelveLoc  Age  \\\n",
       "0     9.50        138      73           11         276    120          0   42   \n",
       "1    11.22        111      48           16         260     83          1   65   \n",
       "2    10.06        113      35           10         269     80          2   59   \n",
       "3     7.40        117     100            4         466     97          2   55   \n",
       "4     4.15        141      64            3         340    128          0   38   \n",
       "..     ...        ...     ...          ...         ...    ...        ...  ...   \n",
       "395  12.57        138     108           17         203    128          1   33   \n",
       "396   6.14        139      23            3          37    120          2   55   \n",
       "397   7.41        162      26           12         368    159          2   40   \n",
       "398   5.94        100      79            7         284     95          0   50   \n",
       "399   9.71        134      37            0          27    120          1   49   \n",
       "\n",
       "     Education  Urban  US sales_val  \n",
       "0           17      1   1      high  \n",
       "1           10      1   1      high  \n",
       "2           12      1   1      high  \n",
       "3           14      1   1       low  \n",
       "4           13      1   0       low  \n",
       "..         ...    ...  ..       ...  \n",
       "395         14      1   1      high  \n",
       "396         11      0   1       low  \n",
       "397         18      1   1       low  \n",
       "398         12      1   1       low  \n",
       "399         16      1   1      high  \n",
       "\n",
       "[400 rows x 12 columns]"
      ]
     },
     "execution_count": 15,
     "metadata": {},
     "output_type": "execute_result"
    }
   ],
   "source": [
    "sales_val = []\n",
    "for value in comp_data[\"Sales\"]:\n",
    "    if value<=7.49:\n",
    "        sales_val.append(\"low\")\n",
    "    else:\n",
    "        sales_val.append(\"high\")\n",
    "        \n",
    "comp_data[\"sales_val\"]= sales_val\n",
    "comp_data"
   ]
  },
  {
   "cell_type": "markdown",
   "id": "92e142ce",
   "metadata": {},
   "source": [
    "### Uderstanding the new target variable after converting the numerical data of target variable into categorical data "
   ]
  },
  {
   "cell_type": "code",
   "execution_count": 16,
   "id": "1217d3ed",
   "metadata": {},
   "outputs": [
    {
     "data": {
      "text/plain": [
       "array(['high', 'low'], dtype=object)"
      ]
     },
     "execution_count": 16,
     "metadata": {},
     "output_type": "execute_result"
    }
   ],
   "source": [
    "comp_data['sales_val'].unique()"
   ]
  },
  {
   "cell_type": "code",
   "execution_count": 17,
   "id": "a4aab7f4",
   "metadata": {},
   "outputs": [
    {
     "data": {
      "text/plain": [
       "low     201\n",
       "high    199\n",
       "Name: sales_val, dtype: int64"
      ]
     },
     "execution_count": 17,
     "metadata": {},
     "output_type": "execute_result"
    }
   ],
   "source": [
    "comp_data['sales_val'].value_counts()"
   ]
  },
  {
   "cell_type": "code",
   "execution_count": 18,
   "id": "e43f3e48",
   "metadata": {},
   "outputs": [
    {
     "data": {
      "text/plain": [
       "400"
      ]
     },
     "execution_count": 18,
     "metadata": {},
     "output_type": "execute_result"
    }
   ],
   "source": [
    "comp_data['sales_val'].count()"
   ]
  },
  {
   "cell_type": "code",
   "execution_count": 19,
   "id": "7d79ea8c",
   "metadata": {},
   "outputs": [
    {
     "name": "stdout",
     "output_type": "stream",
     "text": [
      "skewness of the dataset:\n",
      " \n",
      " Sales          0.185560\n",
      "CompPrice     -0.042755\n",
      "Income         0.049444\n",
      "Advertising    0.639586\n",
      "Population    -0.051227\n",
      "Price         -0.125286\n",
      "ShelveLoc     -0.627875\n",
      "Age           -0.077182\n",
      "Education      0.044007\n",
      "Urban         -0.902426\n",
      "US            -0.608327\n",
      "dtype: float64\n",
      "--------------------------------------------------------\n",
      "kurtosis values of the dataset:\n",
      " \n",
      " Sales         -0.080877\n",
      "CompPrice      0.041666\n",
      "Income        -1.085289\n",
      "Advertising   -0.545118\n",
      "Population    -1.202318\n",
      "Price          0.451885\n",
      "ShelveLoc     -1.273958\n",
      "Age           -1.134392\n",
      "Education     -1.298332\n",
      "Urban         -1.191610\n",
      "US            -1.638154\n",
      "dtype: float64\n"
     ]
    }
   ],
   "source": [
    "print('skewness of the dataset:\\n','\\n',comp_data.skew())\n",
    "print('--------------------------------------------------------')\n",
    "print('kurtosis values of the dataset:\\n','\\n',comp_data.kurtosis())"
   ]
  },
  {
   "cell_type": "code",
   "execution_count": 20,
   "id": "a585eccb",
   "metadata": {},
   "outputs": [
    {
     "name": "stdout",
     "output_type": "stream",
     "text": [
      "Skew: 0.18556036318721578\n",
      "Kurtosis: -0.08087736743346197\n"
     ]
    },
    {
     "data": {
      "image/png": "[encoded data removed]",
      "text/plain": [
       "<Figure size 1152x360 with 1 Axes>"
      ]
     },
     "metadata": {
      "needs_background": "light"
     },
     "output_type": "display_data"
    }
   ],
   "source": [
    "plt.figure(figsize=(16,5))\n",
    "print(\"Skew: {}\".format(comp_data['Sales'].skew()))\n",
    "print(\"Kurtosis: {}\".format(comp_data['Sales'].kurtosis()))\n",
    "ax = sns.kdeplot(comp_data['Sales'],shade=True,color='g')\n",
    "plt.xticks([i for i in range(0,20,1)])\n",
    "plt.show()"
   ]
  },
  {
   "cell_type": "markdown",
   "id": "746f8aaf",
   "metadata": {},
   "source": [
    "### The data is Skewed on the right\n",
    "### The data has negative Kurtosis \n",
    "----"
   ]
  },
  {
   "cell_type": "markdown",
   "id": "5e028a8f",
   "metadata": {},
   "source": [
    "### Outlier Check "
   ]
  },
  {
   "cell_type": "code",
   "execution_count": 21,
   "id": "2cd82777",
   "metadata": {},
   "outputs": [
    {
     "data": {
      "image/png": "[encoded data removed]",
      "text/plain": [
       "<Figure size 432x288 with 1 Axes>"
      ]
     },
     "metadata": {
      "needs_background": "light"
     },
     "output_type": "display_data"
    }
   ],
   "source": [
    "sns.boxplot(comp_data['Sales'])\n",
    "plt.show()"
   ]
  },
  {
   "cell_type": "markdown",
   "id": "5de77b32",
   "metadata": {},
   "source": [
    "### The target variable has 2 outlier instances"
   ]
  },
  {
   "cell_type": "code",
   "execution_count": 22,
   "id": "125c9144",
   "metadata": {},
   "outputs": [],
   "source": [
    "X = comp_data.drop(['Sales','sales_val'],axis=1)\n",
    "y = comp_data[['sales_val']]"
   ]
  },
  {
   "cell_type": "code",
   "execution_count": 23,
   "id": "492553eb",
   "metadata": {},
   "outputs": [
    {
     "data": {
      "text/plain": [
       "(400, 10)"
      ]
     },
     "execution_count": 23,
     "metadata": {},
     "output_type": "execute_result"
    }
   ],
   "source": [
    "X.shape"
   ]
  },
  {
   "cell_type": "code",
   "execution_count": 24,
   "id": "3dc41488",
   "metadata": {},
   "outputs": [
    {
     "data": {
      "text/plain": [
       "(400, 1)"
      ]
     },
     "execution_count": 24,
     "metadata": {},
     "output_type": "execute_result"
    }
   ],
   "source": [
    "y.shape"
   ]
  },
  {
   "cell_type": "code",
   "execution_count": 25,
   "id": "f57a2781",
   "metadata": {},
   "outputs": [],
   "source": [
    "X_train, X_test, y_train, y_test = train_test_split(X,y,test_size=0.20,random_state=42)"
   ]
  },
  {
   "cell_type": "code",
   "execution_count": 26,
   "id": "c561ee78",
   "metadata": {},
   "outputs": [
    {
     "data": {
      "text/plain": [
       "((320, 10), (320, 1))"
      ]
     },
     "execution_count": 26,
     "metadata": {},
     "output_type": "execute_result"
    }
   ],
   "source": [
    "X_train.shape,y_train.shape"
   ]
  },
  {
   "cell_type": "code",
   "execution_count": 27,
   "id": "667b828b",
   "metadata": {},
   "outputs": [
    {
     "data": {
      "text/plain": [
       "((80, 10), (80, 1))"
      ]
     },
     "execution_count": 27,
     "metadata": {},
     "output_type": "execute_result"
    }
   ],
   "source": [
    "X_test.shape,y_test.shape"
   ]
  },
  {
   "cell_type": "markdown",
   "id": "86e56d62",
   "metadata": {},
   "source": [
    "### Model Training "
   ]
  },
  {
   "cell_type": "code",
   "execution_count": 28,
   "id": "3894d214",
   "metadata": {},
   "outputs": [
    {
     "data": {
      "text/plain": [
       "RandomForestClassifier(criterion='entropy', n_estimators=200, n_jobs=4,\n",
       "                       oob_score=True)"
      ]
     },
     "execution_count": 28,
     "metadata": {},
     "output_type": "execute_result"
    }
   ],
   "source": [
    "rf_model =RandomForestClassifier(n_jobs=4,n_estimators =200, oob_score =True,criterion ='entropy') \n",
    "rf_model.fit(X_train,y_train)"
   ]
  },
  {
   "cell_type": "code",
   "execution_count": 29,
   "id": "ef95af4b",
   "metadata": {},
   "outputs": [
    {
     "name": "stdout",
     "output_type": "stream",
     "text": [
      "OOB Score: 0.80625\n"
     ]
    }
   ],
   "source": [
    "print('OOB Score:', rf_model.oob_score_)"
   ]
  },
  {
   "cell_type": "markdown",
   "id": "510df969",
   "metadata": {},
   "source": [
    "### Model Testing\n",
    "---\n",
    "### Training Data"
   ]
  },
  {
   "cell_type": "code",
   "execution_count": 30,
   "id": "36c3aadf",
   "metadata": {},
   "outputs": [
    {
     "data": {
      "text/plain": [
       "low     164\n",
       "high    156\n",
       "dtype: int64"
      ]
     },
     "execution_count": 30,
     "metadata": {},
     "output_type": "execute_result"
    }
   ],
   "source": [
    "y_pred_train = rf_model.predict(X_train)\n",
    "pd.Series(y_pred_train).value_counts()"
   ]
  },
  {
   "cell_type": "code",
   "execution_count": 31,
   "id": "85cac9f4",
   "metadata": {},
   "outputs": [
    {
     "data": {
      "text/plain": [
       "array(['low', 'high', 'low', 'high', 'low', 'high', 'low', 'low', 'low',\n",
       "       'low', 'high', 'low', 'high', 'high', 'low', 'high', 'low', 'high',\n",
       "       'low', 'high', 'low', 'high', 'high', 'high', 'low', 'high',\n",
       "       'high', 'low', 'low', 'high', 'low', 'high', 'high', 'low', 'low',\n",
       "       'high', 'high', 'high', 'high', 'high', 'high', 'high', 'high',\n",
       "       'low', 'high', 'high', 'high', 'low', 'low', 'high', 'low', 'high',\n",
       "       'low', 'high', 'low', 'low', 'high', 'low', 'high', 'low', 'high',\n",
       "       'high', 'low', 'high', 'low', 'low', 'low', 'low', 'low', 'high',\n",
       "       'low', 'low', 'low', 'high', 'high', 'high', 'low', 'high', 'high',\n",
       "       'low', 'high', 'high', 'high', 'low', 'high', 'high', 'low', 'low',\n",
       "       'high', 'low', 'low', 'high', 'high', 'high', 'low', 'low', 'low',\n",
       "       'low', 'high', 'low', 'low', 'high', 'low', 'low', 'high', 'low',\n",
       "       'low', 'high', 'low', 'low', 'high', 'low', 'high', 'high', 'low',\n",
       "       'high', 'high', 'low', 'high', 'low', 'low', 'low', 'low', 'high',\n",
       "       'high', 'low', 'low', 'high', 'high', 'high', 'low', 'low', 'high',\n",
       "       'low', 'high', 'high', 'high', 'high', 'high', 'low', 'low',\n",
       "       'high', 'low', 'low', 'low', 'low', 'low', 'low', 'high', 'high',\n",
       "       'high', 'high', 'high', 'high', 'low', 'high', 'low', 'high',\n",
       "       'low', 'high', 'low', 'low', 'low', 'high', 'high', 'low', 'high',\n",
       "       'high', 'low', 'high', 'high', 'high', 'high', 'high', 'low',\n",
       "       'high', 'low', 'high', 'low', 'high', 'high', 'low', 'high', 'low',\n",
       "       'high', 'low', 'high', 'high', 'low', 'low', 'low', 'high', 'high',\n",
       "       'high', 'high', 'high', 'high', 'low', 'high', 'high', 'low',\n",
       "       'low', 'low', 'low', 'high', 'low', 'high', 'high', 'high', 'low',\n",
       "       'low', 'low', 'low', 'low', 'low', 'low', 'low', 'low', 'low',\n",
       "       'high', 'low', 'low', 'high', 'high', 'low', 'low', 'low', 'low',\n",
       "       'high', 'high', 'high', 'low', 'low', 'low', 'high', 'low', 'low',\n",
       "       'high', 'high', 'high', 'high', 'low', 'high', 'low', 'low', 'low',\n",
       "       'high', 'low', 'low', 'low', 'low', 'low', 'high', 'high', 'low',\n",
       "       'low', 'low', 'high', 'high', 'high', 'low', 'low', 'high', 'low',\n",
       "       'high', 'high', 'low', 'low', 'high', 'high', 'low', 'low', 'high',\n",
       "       'low', 'low', 'low', 'low', 'low', 'high', 'low', 'high', 'low',\n",
       "       'low', 'low', 'high', 'low', 'low', 'high', 'low', 'low', 'high',\n",
       "       'low', 'high', 'high', 'high', 'low', 'low', 'low', 'high', 'low',\n",
       "       'high', 'high', 'high', 'high', 'high', 'low', 'low', 'high',\n",
       "       'high', 'low', 'low', 'high', 'high', 'low', 'high', 'low', 'low',\n",
       "       'high', 'high', 'low'], dtype=object)"
      ]
     },
     "execution_count": 31,
     "metadata": {},
     "output_type": "execute_result"
    }
   ],
   "source": [
    "y_pred_train"
   ]
  },
  {
   "cell_type": "markdown",
   "id": "de3ea77f",
   "metadata": {},
   "source": [
    "### Model Evaluation \n",
    "---\n",
    "### Training Data"
   ]
  },
  {
   "cell_type": "code",
   "execution_count": 32,
   "id": "774097fe",
   "metadata": {},
   "outputs": [
    {
     "name": "stdout",
     "output_type": "stream",
     "text": [
      "Accuracy Score           : 1.0\n",
      "---------------------------\n",
      "Confusion Matrix         :\n",
      " [[156   0]\n",
      " [  0 164]]\n",
      "---------------------------\n",
      "Classification Report    :\n",
      "               precision    recall  f1-score   support\n",
      "\n",
      "        high       1.00      1.00      1.00       156\n",
      "         low       1.00      1.00      1.00       164\n",
      "\n",
      "    accuracy                           1.00       320\n",
      "   macro avg       1.00      1.00      1.00       320\n",
      "weighted avg       1.00      1.00      1.00       320\n",
      "\n"
     ]
    }
   ],
   "source": [
    "print('Accuracy Score           :', accuracy_score(y_train , y_pred_train))\n",
    "print('---------------------------')\n",
    "print('Confusion Matrix         :\\n', confusion_matrix(y_train , y_pred_train))\n",
    "print('---------------------------')\n",
    "print('Classification Report    :\\n',classification_report(y_train , y_pred_train))"
   ]
  },
  {
   "cell_type": "markdown",
   "id": "73215e46",
   "metadata": {},
   "source": [
    "### Model Testing \n",
    "----\n",
    "### Testing Data"
   ]
  },
  {
   "cell_type": "code",
   "execution_count": 33,
   "id": "c5f3d0c2",
   "metadata": {},
   "outputs": [
    {
     "data": {
      "text/plain": [
       "high    42\n",
       "low     38\n",
       "dtype: int64"
      ]
     },
     "execution_count": 33,
     "metadata": {},
     "output_type": "execute_result"
    }
   ],
   "source": [
    "y_pred_test = rf_model.predict(X_test)\n",
    "pd.Series(y_pred_test).value_counts()"
   ]
  },
  {
   "cell_type": "code",
   "execution_count": 34,
   "id": "15fa8c69",
   "metadata": {},
   "outputs": [
    {
     "data": {
      "text/plain": [
       "array(['low', 'low', 'high', 'low', 'high', 'low', 'high', 'low', 'high',\n",
       "       'high', 'low', 'high', 'high', 'high', 'low', 'high', 'low',\n",
       "       'high', 'high', 'low', 'high', 'low', 'low', 'low', 'low', 'low',\n",
       "       'low', 'high', 'low', 'low', 'high', 'high', 'low', 'low', 'high',\n",
       "       'low', 'low', 'high', 'high', 'low', 'low', 'low', 'high', 'high',\n",
       "       'high', 'high', 'low', 'high', 'low', 'low', 'high', 'high', 'low',\n",
       "       'low', 'high', 'low', 'low', 'high', 'high', 'high', 'high',\n",
       "       'high', 'low', 'low', 'high', 'high', 'high', 'high', 'low',\n",
       "       'high', 'low', 'low', 'high', 'low', 'high', 'high', 'high',\n",
       "       'high', 'low', 'high'], dtype=object)"
      ]
     },
     "execution_count": 34,
     "metadata": {},
     "output_type": "execute_result"
    }
   ],
   "source": [
    "y_pred_test"
   ]
  },
  {
   "cell_type": "markdown",
   "id": "a48ded30",
   "metadata": {},
   "source": [
    "### Model Evaluation \n",
    "----\n",
    "### Testing Data"
   ]
  },
  {
   "cell_type": "code",
   "execution_count": 35,
   "id": "7882b269",
   "metadata": {},
   "outputs": [
    {
     "name": "stdout",
     "output_type": "stream",
     "text": [
      "Accuracy Score: 0.8125\n",
      "---------------------------\n",
      "Confusion Matrix:\n",
      " [[35  8]\n",
      " [ 7 30]]\n",
      "---------------------------\n",
      "Classification Report:\n",
      "               precision    recall  f1-score   support\n",
      "\n",
      "        high       0.83      0.81      0.82        43\n",
      "         low       0.79      0.81      0.80        37\n",
      "\n",
      "    accuracy                           0.81        80\n",
      "   macro avg       0.81      0.81      0.81        80\n",
      "weighted avg       0.81      0.81      0.81        80\n",
      "\n"
     ]
    }
   ],
   "source": [
    "print('Accuracy Score:', accuracy_score(y_test , y_pred_test))\n",
    "print('---------------------------')\n",
    "print('Confusion Matrix:\\n', confusion_matrix(y_test , y_pred_test))\n",
    "print('---------------------------')\n",
    "print('Classification Report:\\n',classification_report(y_test , y_pred_test))"
   ]
  },
  {
   "cell_type": "code",
   "execution_count": 36,
   "id": "76cdda11",
   "metadata": {},
   "outputs": [],
   "source": [
    "from sklearn.model_selection import cross_val_score\n",
    "\n",
    "scores = cross_val_score(rf_model, X_train, y_train, cv=5)"
   ]
  },
  {
   "cell_type": "code",
   "execution_count": 37,
   "id": "2d3ac865",
   "metadata": {},
   "outputs": [
    {
     "data": {
      "text/plain": [
       "0.809375"
      ]
     },
     "execution_count": 37,
     "metadata": {},
     "output_type": "execute_result"
    }
   ],
   "source": [
    "scores.mean()"
   ]
  },
  {
   "cell_type": "markdown",
   "id": "0b439f88",
   "metadata": {},
   "source": [
    "### Automate the way for getting Optimal Values for Hyperparameter"
   ]
  },
  {
   "cell_type": "code",
   "execution_count": 38,
   "id": "6faaf894",
   "metadata": {},
   "outputs": [],
   "source": [
    "pg = {'n_estimators': [100,200,500],\n",
    "      'max_features': ['auto', 'sqrt', 'log2'],\n",
    "      'max_depth' : [4,5,6,7,8],\n",
    "      'criterion' :['gini', 'entropy']}"
   ]
  },
  {
   "cell_type": "code",
   "execution_count": 39,
   "id": "1511ebdf",
   "metadata": {
    "scrolled": false
   },
   "outputs": [
    {
     "name": "stdout",
     "output_type": "stream",
     "text": [
      "{'criterion': 'gini', 'max_depth': 8, 'max_features': 'sqrt', 'n_estimators': 500}\n",
      "0.81875\n",
      "Wall time: 4min 51s\n"
     ]
    }
   ],
   "source": [
    "%%time\n",
    "grid_search_cv = GridSearchCV(estimator=rf_model,param_grid= pg,cv=5)\n",
    "grid_search_cv.fit(X_train,y_train)\n",
    "print(grid_search_cv.best_params_)\n",
    "print(grid_search_cv.best_score_)"
   ]
  },
  {
   "cell_type": "markdown",
   "id": "ca7a8286",
   "metadata": {},
   "source": [
    "### Model Training"
   ]
  },
  {
   "cell_type": "code",
   "execution_count": 40,
   "id": "8c1f41b4",
   "metadata": {},
   "outputs": [
    {
     "data": {
      "text/plain": [
       "RandomForestClassifier(max_depth=8, max_features='sqrt', n_estimators=500,\n",
       "                       n_jobs=4, oob_score=True)"
      ]
     },
     "execution_count": 40,
     "metadata": {},
     "output_type": "execute_result"
    }
   ],
   "source": [
    "rforest_model = RandomForestClassifier(max_depth= 8, criterion='gini',max_features='sqrt',n_estimators =500,n_jobs=4,oob_score=True)\n",
    "rforest_model.fit(X_train,y_train)"
   ]
  },
  {
   "cell_type": "markdown",
   "id": "6d1b6dac",
   "metadata": {},
   "source": [
    "### Model Testing\n",
    "---\n",
    "### Train Data"
   ]
  },
  {
   "cell_type": "code",
   "execution_count": 41,
   "id": "d0a24fe5",
   "metadata": {},
   "outputs": [
    {
     "data": {
      "text/plain": [
       "low     163\n",
       "high    157\n",
       "dtype: int64"
      ]
     },
     "execution_count": 41,
     "metadata": {},
     "output_type": "execute_result"
    }
   ],
   "source": [
    "y_pred_train = rforest_model.predict(X_train)\n",
    "pd.Series(y_pred_train).value_counts()"
   ]
  },
  {
   "cell_type": "code",
   "execution_count": 42,
   "id": "498d0e0a",
   "metadata": {},
   "outputs": [
    {
     "data": {
      "text/plain": [
       "0.803125"
      ]
     },
     "execution_count": 42,
     "metadata": {},
     "output_type": "execute_result"
    }
   ],
   "source": [
    "rforest_model.oob_score_"
   ]
  },
  {
   "cell_type": "code",
   "execution_count": 43,
   "id": "be38fc73",
   "metadata": {},
   "outputs": [
    {
     "data": {
      "text/plain": [
       "array(['low', 'high', 'low', 'high', 'low', 'high', 'low', 'low', 'low',\n",
       "       'low', 'high', 'low', 'high', 'high', 'low', 'high', 'low', 'high',\n",
       "       'low', 'high', 'low', 'high', 'high', 'high', 'low', 'high',\n",
       "       'high', 'low', 'low', 'high', 'low', 'high', 'high', 'low', 'low',\n",
       "       'high', 'high', 'high', 'high', 'high', 'high', 'high', 'high',\n",
       "       'low', 'high', 'high', 'high', 'low', 'low', 'high', 'low', 'high',\n",
       "       'low', 'high', 'low', 'low', 'high', 'low', 'high', 'low', 'high',\n",
       "       'high', 'low', 'high', 'low', 'low', 'low', 'low', 'low', 'high',\n",
       "       'low', 'low', 'low', 'high', 'high', 'high', 'low', 'high', 'high',\n",
       "       'low', 'high', 'high', 'high', 'low', 'high', 'high', 'low', 'low',\n",
       "       'high', 'low', 'low', 'high', 'high', 'high', 'low', 'low', 'low',\n",
       "       'low', 'high', 'low', 'low', 'high', 'low', 'low', 'high', 'low',\n",
       "       'low', 'high', 'low', 'low', 'high', 'low', 'high', 'high', 'low',\n",
       "       'high', 'high', 'low', 'high', 'low', 'low', 'low', 'low', 'high',\n",
       "       'high', 'low', 'low', 'high', 'high', 'high', 'low', 'low', 'high',\n",
       "       'low', 'high', 'high', 'high', 'high', 'high', 'low', 'low',\n",
       "       'high', 'low', 'low', 'high', 'low', 'low', 'low', 'high', 'high',\n",
       "       'high', 'high', 'high', 'high', 'low', 'high', 'low', 'high',\n",
       "       'low', 'high', 'low', 'low', 'low', 'high', 'high', 'low', 'high',\n",
       "       'high', 'low', 'high', 'high', 'high', 'high', 'high', 'low',\n",
       "       'high', 'low', 'high', 'low', 'high', 'high', 'low', 'high', 'low',\n",
       "       'high', 'low', 'high', 'high', 'low', 'low', 'low', 'high', 'high',\n",
       "       'high', 'high', 'high', 'high', 'low', 'high', 'high', 'low',\n",
       "       'low', 'low', 'low', 'high', 'low', 'high', 'high', 'high', 'low',\n",
       "       'low', 'low', 'low', 'low', 'low', 'low', 'low', 'low', 'low',\n",
       "       'high', 'low', 'low', 'high', 'high', 'low', 'low', 'low', 'low',\n",
       "       'high', 'high', 'high', 'low', 'low', 'low', 'high', 'low', 'low',\n",
       "       'high', 'high', 'high', 'high', 'low', 'high', 'low', 'low', 'low',\n",
       "       'high', 'low', 'low', 'low', 'low', 'low', 'high', 'high', 'low',\n",
       "       'low', 'low', 'high', 'high', 'high', 'low', 'low', 'high', 'low',\n",
       "       'high', 'high', 'low', 'low', 'high', 'high', 'low', 'low', 'high',\n",
       "       'low', 'low', 'low', 'low', 'low', 'high', 'low', 'high', 'low',\n",
       "       'low', 'low', 'high', 'low', 'low', 'high', 'low', 'low', 'high',\n",
       "       'low', 'high', 'high', 'high', 'low', 'low', 'low', 'high', 'low',\n",
       "       'high', 'high', 'high', 'high', 'high', 'low', 'low', 'high',\n",
       "       'high', 'low', 'low', 'high', 'high', 'low', 'high', 'low', 'low',\n",
       "       'high', 'high', 'low'], dtype=object)"
      ]
     },
     "execution_count": 43,
     "metadata": {},
     "output_type": "execute_result"
    }
   ],
   "source": [
    "y_pred_train"
   ]
  },
  {
   "cell_type": "markdown",
   "id": "17bcabd0",
   "metadata": {},
   "source": [
    "### Model Evaluation \n",
    "---\n",
    "### Train Data"
   ]
  },
  {
   "cell_type": "code",
   "execution_count": 44,
   "id": "b8276fad",
   "metadata": {},
   "outputs": [
    {
     "name": "stdout",
     "output_type": "stream",
     "text": [
      "Accuracy Score           : 0.996875\n",
      "---------------------------\n",
      "Confusion Matrix         :\n",
      " [[156   0]\n",
      " [  1 163]]\n",
      "---------------------------\n",
      "Classification Report    :\n",
      "               precision    recall  f1-score   support\n",
      "\n",
      "        high       0.99      1.00      1.00       156\n",
      "         low       1.00      0.99      1.00       164\n",
      "\n",
      "    accuracy                           1.00       320\n",
      "   macro avg       1.00      1.00      1.00       320\n",
      "weighted avg       1.00      1.00      1.00       320\n",
      "\n"
     ]
    }
   ],
   "source": [
    "print('Accuracy Score           :', accuracy_score(y_train , y_pred_train))\n",
    "print('---------------------------')\n",
    "print('Confusion Matrix         :\\n', confusion_matrix(y_train , y_pred_train))\n",
    "print('---------------------------')\n",
    "print('Classification Report    :\\n',classification_report(y_train , y_pred_train))"
   ]
  },
  {
   "cell_type": "markdown",
   "id": "ba8daca4",
   "metadata": {},
   "source": [
    "### Model Testing \n",
    "----\n",
    "### Test Data"
   ]
  },
  {
   "cell_type": "code",
   "execution_count": 45,
   "id": "062d36e0",
   "metadata": {},
   "outputs": [
    {
     "data": {
      "text/plain": [
       "high    42\n",
       "low     38\n",
       "dtype: int64"
      ]
     },
     "execution_count": 45,
     "metadata": {},
     "output_type": "execute_result"
    }
   ],
   "source": [
    "y_pred_test = rforest_model.predict(X_test)\n",
    "pd.Series(y_pred_test).value_counts()"
   ]
  },
  {
   "cell_type": "code",
   "execution_count": 46,
   "id": "0bf508cf",
   "metadata": {},
   "outputs": [
    {
     "data": {
      "text/plain": [
       "array(['low', 'low', 'high', 'low', 'high', 'low', 'high', 'high', 'high',\n",
       "       'high', 'low', 'high', 'high', 'low', 'low', 'high', 'low', 'high',\n",
       "       'high', 'low', 'high', 'low', 'low', 'low', 'low', 'low', 'low',\n",
       "       'high', 'low', 'low', 'high', 'high', 'low', 'low', 'high', 'low',\n",
       "       'low', 'high', 'high', 'low', 'low', 'low', 'high', 'high', 'high',\n",
       "       'high', 'low', 'high', 'low', 'low', 'high', 'high', 'low', 'low',\n",
       "       'high', 'low', 'low', 'high', 'high', 'high', 'high', 'high',\n",
       "       'low', 'low', 'high', 'high', 'high', 'high', 'low', 'high', 'low',\n",
       "       'high', 'high', 'low', 'high', 'high', 'high', 'high', 'low',\n",
       "       'low'], dtype=object)"
      ]
     },
     "execution_count": 46,
     "metadata": {},
     "output_type": "execute_result"
    }
   ],
   "source": [
    "y_pred_test"
   ]
  },
  {
   "cell_type": "markdown",
   "id": "eb85b00b",
   "metadata": {},
   "source": [
    "### Model Evaluation \n",
    "----\n",
    "### Test Data"
   ]
  },
  {
   "cell_type": "code",
   "execution_count": 47,
   "id": "f361a7ae",
   "metadata": {},
   "outputs": [
    {
     "name": "stdout",
     "output_type": "stream",
     "text": [
      "Accuracy Score: 0.8125\n",
      "---------------------------\n",
      "Confusion Matrix:\n",
      " [[35  8]\n",
      " [ 7 30]]\n",
      "---------------------------\n",
      "Classification Report:\n",
      "               precision    recall  f1-score   support\n",
      "\n",
      "        high       0.83      0.81      0.82        43\n",
      "         low       0.79      0.81      0.80        37\n",
      "\n",
      "    accuracy                           0.81        80\n",
      "   macro avg       0.81      0.81      0.81        80\n",
      "weighted avg       0.81      0.81      0.81        80\n",
      "\n"
     ]
    }
   ],
   "source": [
    "print('Accuracy Score:', accuracy_score(y_test , y_pred_test))\n",
    "print('---------------------------')\n",
    "print('Confusion Matrix:\\n', confusion_matrix(y_test , y_pred_test))\n",
    "print('---------------------------')\n",
    "print('Classification Report:\\n',classification_report(y_test , y_pred_test))"
   ]
  },
  {
   "cell_type": "code",
   "execution_count": 48,
   "id": "882d9191",
   "metadata": {},
   "outputs": [],
   "source": [
    "scores = cross_val_score(rforest_model, X_train, y_train, cv=5)"
   ]
  },
  {
   "cell_type": "code",
   "execution_count": 49,
   "id": "3bedacab",
   "metadata": {},
   "outputs": [
    {
     "data": {
      "text/plain": [
       "0.80625"
      ]
     },
     "execution_count": 49,
     "metadata": {},
     "output_type": "execute_result"
    }
   ],
   "source": [
    "scores.mean()"
   ]
  },
  {
   "cell_type": "markdown",
   "id": "31e78702",
   "metadata": {},
   "source": [
    "### Gradient Boosting "
   ]
  },
  {
   "cell_type": "code",
   "execution_count": 50,
   "id": "02e06354",
   "metadata": {},
   "outputs": [],
   "source": [
    "gbc = GradientBoostingClassifier()\n",
    "parameters = {\n",
    "    \"n_estimators\":[5,50,250,500],\n",
    "    \"max_depth\":[1,3,5,7,9],\n",
    "    \"learning_rate\":[0.01,0.1,1,10,100]\n",
    "}"
   ]
  },
  {
   "cell_type": "code",
   "execution_count": 51,
   "id": "940d8ba5",
   "metadata": {
    "scrolled": false
   },
   "outputs": [
    {
     "name": "stdout",
     "output_type": "stream",
     "text": [
      "Wall time: 3min 50s\n"
     ]
    },
    {
     "data": {
      "text/plain": [
       "GridSearchCV(cv=5, estimator=GradientBoostingClassifier(),\n",
       "             param_grid={'learning_rate': [0.01, 0.1, 1, 10, 100],\n",
       "                         'max_depth': [1, 3, 5, 7, 9],\n",
       "                         'n_estimators': [5, 50, 250, 500]})"
      ]
     },
     "execution_count": 51,
     "metadata": {},
     "output_type": "execute_result"
    }
   ],
   "source": [
    "%%time\n",
    "cv = GridSearchCV(gbc,parameters,cv=5)\n",
    "cv.fit(X_train,y_train.values.ravel())"
   ]
  },
  {
   "cell_type": "code",
   "execution_count": 52,
   "id": "f3a79166",
   "metadata": {},
   "outputs": [
    {
     "name": "stdout",
     "output_type": "stream",
     "text": [
      "{'learning_rate': 0.1, 'max_depth': 1, 'n_estimators': 500}\n",
      "0.84375\n"
     ]
    }
   ],
   "source": [
    "print(cv.best_params_)\n",
    "print(cv.best_score_)"
   ]
  },
  {
   "cell_type": "code",
   "execution_count": 53,
   "id": "c46a690a",
   "metadata": {},
   "outputs": [
    {
     "data": {
      "text/plain": [
       "GradientBoostingClassifier(max_depth=1, n_estimators=500)"
      ]
     },
     "execution_count": 53,
     "metadata": {},
     "output_type": "execute_result"
    }
   ],
   "source": [
    "gb_model = GradientBoostingClassifier(learning_rate=0.1 ,n_estimators=500 , max_depth=1)\n",
    "gb_model.fit(X_train,y_train)"
   ]
  },
  {
   "cell_type": "markdown",
   "id": "b21ea7d3",
   "metadata": {},
   "source": [
    "### Model Testing\n",
    "---\n",
    "### Train Data"
   ]
  },
  {
   "cell_type": "code",
   "execution_count": 54,
   "id": "d0a24fe5",
   "metadata": {},
   "outputs": [
    {
     "data": {
      "text/plain": [
       "low     167\n",
       "high    153\n",
       "dtype: int64"
      ]
     },
     "execution_count": 54,
     "metadata": {},
     "output_type": "execute_result"
    }
   ],
   "source": [
    "y_pred_train = gb_model.predict(X_train)\n",
    "pd.Series(y_pred_train).value_counts()"
   ]
  },
  {
   "cell_type": "code",
   "execution_count": 55,
   "id": "be38fc73",
   "metadata": {},
   "outputs": [
    {
     "data": {
      "text/plain": [
       "array(['high', 'high', 'low', 'high', 'high', 'high', 'low', 'low', 'low',\n",
       "       'low', 'high', 'low', 'low', 'high', 'low', 'high', 'low', 'high',\n",
       "       'low', 'high', 'low', 'high', 'high', 'high', 'low', 'high',\n",
       "       'high', 'low', 'low', 'high', 'low', 'high', 'high', 'low', 'low',\n",
       "       'high', 'high', 'high', 'high', 'high', 'high', 'high', 'high',\n",
       "       'high', 'high', 'low', 'high', 'low', 'low', 'high', 'low', 'high',\n",
       "       'low', 'high', 'low', 'low', 'high', 'low', 'high', 'low', 'high',\n",
       "       'high', 'high', 'high', 'low', 'low', 'low', 'low', 'low', 'high',\n",
       "       'low', 'low', 'low', 'high', 'high', 'low', 'low', 'low', 'high',\n",
       "       'low', 'low', 'high', 'high', 'high', 'high', 'high', 'low', 'low',\n",
       "       'high', 'low', 'low', 'high', 'high', 'high', 'low', 'low', 'high',\n",
       "       'low', 'high', 'low', 'low', 'high', 'low', 'low', 'high', 'low',\n",
       "       'low', 'high', 'low', 'low', 'high', 'low', 'high', 'high', 'low',\n",
       "       'high', 'high', 'low', 'high', 'low', 'low', 'low', 'low', 'high',\n",
       "       'high', 'low', 'low', 'high', 'high', 'high', 'low', 'high', 'low',\n",
       "       'low', 'high', 'high', 'high', 'high', 'high', 'low', 'low',\n",
       "       'high', 'low', 'low', 'high', 'low', 'low', 'low', 'high', 'high',\n",
       "       'low', 'high', 'high', 'high', 'low', 'high', 'low', 'high', 'low',\n",
       "       'high', 'low', 'low', 'low', 'high', 'low', 'low', 'high', 'high',\n",
       "       'low', 'high', 'low', 'high', 'high', 'high', 'low', 'high', 'low',\n",
       "       'high', 'low', 'high', 'high', 'low', 'high', 'low', 'high', 'low',\n",
       "       'high', 'high', 'low', 'low', 'low', 'high', 'high', 'high',\n",
       "       'high', 'high', 'high', 'low', 'high', 'high', 'low', 'low', 'low',\n",
       "       'low', 'high', 'low', 'high', 'high', 'high', 'low', 'low', 'low',\n",
       "       'low', 'low', 'low', 'low', 'low', 'low', 'low', 'high', 'low',\n",
       "       'low', 'high', 'high', 'low', 'low', 'low', 'low', 'high', 'high',\n",
       "       'high', 'low', 'low', 'low', 'high', 'low', 'low', 'high', 'high',\n",
       "       'low', 'high', 'low', 'high', 'low', 'low', 'low', 'high', 'low',\n",
       "       'low', 'low', 'low', 'low', 'high', 'high', 'low', 'low', 'low',\n",
       "       'high', 'high', 'high', 'low', 'low', 'high', 'low', 'high', 'low',\n",
       "       'low', 'low', 'high', 'high', 'low', 'low', 'high', 'low', 'low',\n",
       "       'low', 'low', 'low', 'high', 'high', 'high', 'low', 'low', 'low',\n",
       "       'high', 'low', 'low', 'high', 'low', 'low', 'high', 'low', 'high',\n",
       "       'high', 'high', 'low', 'low', 'low', 'high', 'low', 'low', 'high',\n",
       "       'high', 'high', 'high', 'low', 'low', 'high', 'high', 'low', 'low',\n",
       "       'high', 'high', 'low', 'high', 'low', 'low', 'high', 'high', 'low'],\n",
       "      dtype=object)"
      ]
     },
     "execution_count": 55,
     "metadata": {},
     "output_type": "execute_result"
    }
   ],
   "source": [
    "y_pred_train"
   ]
  },
  {
   "cell_type": "markdown",
   "id": "17bcabd0",
   "metadata": {},
   "source": [
    "### Model Evaluation \n",
    "---\n",
    "### Train Data"
   ]
  },
  {
   "cell_type": "code",
   "execution_count": 56,
   "id": "b8276fad",
   "metadata": {},
   "outputs": [
    {
     "name": "stdout",
     "output_type": "stream",
     "text": [
      "Accuracy Score           : 0.934375\n",
      "---------------------------\n",
      "Confusion Matrix         :\n",
      " [[144  12]\n",
      " [  9 155]]\n",
      "---------------------------\n",
      "Classification Report    :\n",
      "               precision    recall  f1-score   support\n",
      "\n",
      "        high       0.94      0.92      0.93       156\n",
      "         low       0.93      0.95      0.94       164\n",
      "\n",
      "    accuracy                           0.93       320\n",
      "   macro avg       0.93      0.93      0.93       320\n",
      "weighted avg       0.93      0.93      0.93       320\n",
      "\n"
     ]
    }
   ],
   "source": [
    "print('Accuracy Score           :', accuracy_score(y_train , y_pred_train))\n",
    "print('---------------------------')\n",
    "print('Confusion Matrix         :\\n', confusion_matrix(y_train , y_pred_train))\n",
    "print('---------------------------')\n",
    "print('Classification Report    :\\n',classification_report(y_train , y_pred_train))"
   ]
  },
  {
   "cell_type": "markdown",
   "id": "ba8daca4",
   "metadata": {},
   "source": [
    "### Model Testing \n",
    "----\n",
    "### Test Data"
   ]
  },
  {
   "cell_type": "code",
   "execution_count": 57,
   "id": "062d36e0",
   "metadata": {},
   "outputs": [
    {
     "data": {
      "text/plain": [
       "high    49\n",
       "low     31\n",
       "dtype: int64"
      ]
     },
     "execution_count": 57,
     "metadata": {},
     "output_type": "execute_result"
    }
   ],
   "source": [
    "y_pred_test = gb_model.predict(X_test)\n",
    "pd.Series(y_pred_test).value_counts()"
   ]
  },
  {
   "cell_type": "code",
   "execution_count": 58,
   "id": "0bf508cf",
   "metadata": {},
   "outputs": [
    {
     "data": {
      "text/plain": [
       "array(['low', 'low', 'high', 'low', 'high', 'low', 'high', 'high', 'high',\n",
       "       'high', 'low', 'high', 'high', 'high', 'low', 'high', 'low',\n",
       "       'high', 'high', 'low', 'high', 'low', 'high', 'low', 'high',\n",
       "       'high', 'low', 'low', 'low', 'low', 'high', 'high', 'low', 'low',\n",
       "       'high', 'low', 'high', 'high', 'high', 'low', 'low', 'low', 'high',\n",
       "       'high', 'high', 'high', 'high', 'high', 'low', 'low', 'high',\n",
       "       'high', 'high', 'high', 'high', 'low', 'low', 'high', 'high',\n",
       "       'high', 'high', 'high', 'low', 'low', 'high', 'high', 'high',\n",
       "       'low', 'low', 'high', 'low', 'high', 'high', 'low', 'high', 'high',\n",
       "       'high', 'high', 'low', 'high'], dtype=object)"
      ]
     },
     "execution_count": 58,
     "metadata": {},
     "output_type": "execute_result"
    }
   ],
   "source": [
    "y_pred_test"
   ]
  },
  {
   "cell_type": "markdown",
   "id": "eb85b00b",
   "metadata": {},
   "source": [
    "### Model Evaluation \n",
    "----\n",
    "### Test Data"
   ]
  },
  {
   "cell_type": "code",
   "execution_count": 59,
   "id": "f361a7ae",
   "metadata": {},
   "outputs": [
    {
     "name": "stdout",
     "output_type": "stream",
     "text": [
      "Accuracy Score: 0.825\n",
      "---------------------------\n",
      "Confusion Matrix:\n",
      " [[39  4]\n",
      " [10 27]]\n",
      "---------------------------\n",
      "Classification Report:\n",
      "               precision    recall  f1-score   support\n",
      "\n",
      "        high       0.80      0.91      0.85        43\n",
      "         low       0.87      0.73      0.79        37\n",
      "\n",
      "    accuracy                           0.82        80\n",
      "   macro avg       0.83      0.82      0.82        80\n",
      "weighted avg       0.83      0.82      0.82        80\n",
      "\n"
     ]
    }
   ],
   "source": [
    "print('Accuracy Score:', accuracy_score(y_test , y_pred_test))\n",
    "print('---------------------------')\n",
    "print('Confusion Matrix:\\n', confusion_matrix(y_test , y_pred_test))\n",
    "print('---------------------------')\n",
    "print('Classification Report:\\n',classification_report(y_test , y_pred_test))"
   ]
  },
  {
   "cell_type": "code",
   "execution_count": 60,
   "id": "040c4987",
   "metadata": {},
   "outputs": [
    {
     "data": {
      "text/plain": [
       "0.84375"
      ]
     },
     "execution_count": 60,
     "metadata": {},
     "output_type": "execute_result"
    }
   ],
   "source": [
    "scores = cross_val_score(gb_model, X_train, y_train,cv=5)\n",
    "scores.mean()"
   ]
  },
  {
   "cell_type": "markdown",
   "id": "aac7be67",
   "metadata": {},
   "source": [
    "### Conclusion : 82% of the attributes caused high sale.\n",
    "----\n",
    "### Also the model gives 66 correct predictions and 14 false predictions. \n",
    "----"
   ]
  },
  {
   "cell_type": "code",
   "execution_count": 61,
   "id": "de74f6f2",
   "metadata": {},
   "outputs": [
    {
     "data": {
      "text/plain": [
       "array([0.11459176, 0.08696746, 0.11607064, 0.09440047, 0.26925558,\n",
       "       0.10086259, 0.14248571, 0.05070022, 0.01244534, 0.01222022])"
      ]
     },
     "execution_count": 61,
     "metadata": {},
     "output_type": "execute_result"
    }
   ],
   "source": [
    "rforest_model.feature_importances_"
   ]
  },
  {
   "cell_type": "code",
   "execution_count": 62,
   "id": "1cdb2132",
   "metadata": {},
   "outputs": [],
   "source": [
    "feature_imp = pd.DataFrame({'feature': list(X_train.columns),\n",
    "                   'importance': rforest_model.feature_importances_}).\\\n",
    "                    sort_values('importance', ascending = False)"
   ]
  },
  {
   "cell_type": "code",
   "execution_count": 63,
   "id": "147a10c8",
   "metadata": {},
   "outputs": [
    {
     "data": {
      "text/html": [
       "<div>\n",
       "<style scoped>\n",
       "    .dataframe tbody tr th:only-of-type {\n",
       "        vertical-align: middle;\n",
       "    }\n",
       "\n",
       "    .dataframe tbody tr th {\n",
       "        vertical-align: top;\n",
       "    }\n",
       "\n",
       "    .dataframe thead th {\n",
       "        text-align: right;\n",
       "    }\n",
       "</style>\n",
       "<table border=\"1\" class=\"dataframe\">\n",
       "  <thead>\n",
       "    <tr style=\"text-align: right;\">\n",
       "      <th></th>\n",
       "      <th>feature</th>\n",
       "      <th>importance</th>\n",
       "    </tr>\n",
       "  </thead>\n",
       "  <tbody>\n",
       "    <tr>\n",
       "      <th>4</th>\n",
       "      <td>Price</td>\n",
       "      <td>0.269256</td>\n",
       "    </tr>\n",
       "    <tr>\n",
       "      <th>6</th>\n",
       "      <td>Age</td>\n",
       "      <td>0.142486</td>\n",
       "    </tr>\n",
       "    <tr>\n",
       "      <th>2</th>\n",
       "      <td>Advertising</td>\n",
       "      <td>0.116071</td>\n",
       "    </tr>\n",
       "    <tr>\n",
       "      <th>0</th>\n",
       "      <td>CompPrice</td>\n",
       "      <td>0.114592</td>\n",
       "    </tr>\n",
       "    <tr>\n",
       "      <th>5</th>\n",
       "      <td>ShelveLoc</td>\n",
       "      <td>0.100863</td>\n",
       "    </tr>\n",
       "    <tr>\n",
       "      <th>3</th>\n",
       "      <td>Population</td>\n",
       "      <td>0.094400</td>\n",
       "    </tr>\n",
       "    <tr>\n",
       "      <th>1</th>\n",
       "      <td>Income</td>\n",
       "      <td>0.086967</td>\n",
       "    </tr>\n",
       "    <tr>\n",
       "      <th>7</th>\n",
       "      <td>Education</td>\n",
       "      <td>0.050700</td>\n",
       "    </tr>\n",
       "    <tr>\n",
       "      <th>8</th>\n",
       "      <td>Urban</td>\n",
       "      <td>0.012445</td>\n",
       "    </tr>\n",
       "    <tr>\n",
       "      <th>9</th>\n",
       "      <td>US</td>\n",
       "      <td>0.012220</td>\n",
       "    </tr>\n",
       "  </tbody>\n",
       "</table>\n",
       "</div>"
      ],
      "text/plain": [
       "       feature  importance\n",
       "4        Price    0.269256\n",
       "6          Age    0.142486\n",
       "2  Advertising    0.116071\n",
       "0    CompPrice    0.114592\n",
       "5    ShelveLoc    0.100863\n",
       "3   Population    0.094400\n",
       "1       Income    0.086967\n",
       "7    Education    0.050700\n",
       "8        Urban    0.012445\n",
       "9           US    0.012220"
      ]
     },
     "execution_count": 63,
     "metadata": {},
     "output_type": "execute_result"
    }
   ],
   "source": [
    "feature_imp"
   ]
  },
  {
   "cell_type": "markdown",
   "id": "1b3fc89b",
   "metadata": {},
   "source": [
    "### As seen in the above table, Price is most important feature in the dataset."
   ]
  }
 ],
 "metadata": {
  "kernelspec": {
   "display_name": "Python 3",
   "language": "python",
   "name": "python3"
  },
  "language_info": {
   "codemirror_mode": {
    "name": "ipython",
    "version": 3
   },
   "file_extension": ".py",
   "mimetype": "text/x-python",
   "name": "python",
   "nbconvert_exporter": "python",
   "pygments_lexer": "ipython3",
   "version": "3.8.8"
  }
 },
 "nbformat": 4,
 "nbformat_minor": 5
}
